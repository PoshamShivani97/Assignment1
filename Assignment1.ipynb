{
 "cells": [
  {
   "cell_type": "markdown",
   "id": "67d8078b",
   "metadata": {},
   "source": [
    "# 1. Write a program to find all pairs of an integer array whose sum is equal to a given number."
   ]
  },
  {
   "cell_type": "code",
   "execution_count": 6,
   "id": "b169c717",
   "metadata": {},
   "outputs": [
    {
     "name": "stdout",
     "output_type": "stream",
     "text": [
      "enter numbers separated by space : 1 2 3 4 5\n",
      "5\n"
     ]
    },
    {
     "data": {
      "text/plain": [
       "[(1, 4), (2, 3)]"
      ]
     },
     "execution_count": 6,
     "metadata": {},
     "output_type": "execute_result"
    }
   ],
   "source": [
    "def find_pairs_sum(array,Target):\n",
    "    pairs=[]\n",
    "    for i in range(len(array)):\n",
    "        for j in range(i+1, len(array)):\n",
    "            if array[i]+array[j]==Target:\n",
    "                pairs.append((array[i],array[j]))\n",
    "    return pairs\n",
    "                \n",
    "                \n",
    "array=list(int(i) for i in input(\"enter numbers separated by space : \").split())\n",
    "Target=int(input(\"Please enter target Sum : \"))\n",
    "find_pairs_sum(array, Target)"
   ]
  },
  {
   "cell_type": "markdown",
   "id": "dfc05d29",
   "metadata": {},
   "source": [
    "# 2. Write a program to reverse an array in place."
   ]
  },
  {
   "cell_type": "code",
   "execution_count": 58,
   "id": "1470f30d",
   "metadata": {},
   "outputs": [
    {
     "name": "stdout",
     "output_type": "stream",
     "text": [
      "enter numbers separated by space : 1 2 3 4 5\n",
      "Reverse of array in place is :  [5, 4, 3, 2, 1]\n"
     ]
    }
   ],
   "source": [
    "def reverse_array(array):\n",
    "    left_index = 0\n",
    "    right_index = len(array) - 1\n",
    "    while left_index < right_index:\n",
    "        array[left_index], array[right_index] = array[right_index], array[left_index]\n",
    "        left_index += 1\n",
    "        right_index -= 1\n",
    "    return array\n",
    "print(\"Reverse of array in place is : \" ,reverse_array(list(int(i) for i in input(\"enter numbers separated by space : \").split())))"
   ]
  },
  {
   "cell_type": "markdown",
   "id": "97a5f862",
   "metadata": {},
   "source": [
    "# 3. Write a program to check if two strings are a rotation of each other."
   ]
  },
  {
   "cell_type": "code",
   "execution_count": 11,
   "id": "cb37f588",
   "metadata": {},
   "outputs": [
    {
     "name": "stdout",
     "output_type": "stream",
     "text": [
      "Enter First String : hello\n",
      "Enter Second String : llohe\n",
      "The strings are a rotation of each other\n"
     ]
    }
   ],
   "source": [
    "def is_rotation(str1, str2):\n",
    "    if len(str1) != len(str2):\n",
    "        return False\n",
    "    temp = str1 + str1\n",
    "    return str2 in temp\n",
    "if is_rotation(str(input(\"Enter First String : \")),str(input(\"Enter Second String : \"))):\n",
    "    print(\"The strings are a rotation of each other\")\n",
    "else:\n",
    "    print(\"The strings are not a rotation of each other\")"
   ]
  },
  {
   "cell_type": "markdown",
   "id": "ab81bede",
   "metadata": {},
   "source": [
    "# 4. Write a program to print the first non-repeated character from a string."
   ]
  },
  {
   "cell_type": "code",
   "execution_count": 59,
   "id": "f74a467c",
   "metadata": {},
   "outputs": [
    {
     "name": "stdout",
     "output_type": "stream",
     "text": [
      "Enter String : asdfsad\n",
      "Non-Repeated Character of given String is :  f\n"
     ]
    }
   ],
   "source": [
    "def non_repeated_char(str1):\n",
    "    for i in range(len(str1)-1):\n",
    "        j=str1[i]\n",
    "        if str1.count(j) == 1:\n",
    "            return j\n",
    "print(\"Non-Repeated Character of given String is : \", non_repeated_char(str(input(\"Enter String : \"))))"
   ]
  },
  {
   "cell_type": "markdown",
   "id": "7bcc4b9d",
   "metadata": {},
   "source": [
    "# 5. Write a program to implement Tower of Hanoi Algorithm."
   ]
  },
  {
   "cell_type": "code",
   "execution_count": 32,
   "id": "9e96f794",
   "metadata": {},
   "outputs": [
    {
     "name": "stdout",
     "output_type": "stream",
     "text": [
      "Move disk 1 from B to A\n",
      "Move disk 2 from B to C\n",
      "Move disk 1 from A to C\n",
      "Move disk 3 from B to A\n",
      "Move disk 1 from C to B\n",
      "Move disk 2 from C to A\n",
      "Move disk 1 from B to A\n"
     ]
    }
   ],
   "source": [
    "def tower_of_hanoi(n, source, auxiliary, destination):\n",
    "    if n == 1:\n",
    "        print(f\"Move disk 1 from {source} to {destination}\")\n",
    "        return\n",
    "    tower_of_hanoi(n-1, source, destination, auxiliary)\n",
    "    print(f\"Move disk {n} from {source} to {destination}\")\n",
    "    tower_of_hanoi(n-1, auxiliary, source, destination)\n",
    "tower_of_hanoi(3, \"B\", \"C\", \"A\")"
   ]
  },
  {
   "cell_type": "markdown",
   "id": "f36c7f4d",
   "metadata": {},
   "source": [
    "# 6. Write a program to convert infix expression to prefix expression."
   ]
  },
  {
   "cell_type": "code",
   "execution_count": 33,
   "id": "47b6f037",
   "metadata": {},
   "outputs": [
    {
     "name": "stdout",
     "output_type": "stream",
     "text": [
      "The prefix expression is: *4 \n"
     ]
    }
   ],
   "source": [
    "def postfix_to_prefix(expression):\n",
    "    stack = []\n",
    "    operators = set([\"+\", \"-\", \"*\", \"/\", \"^\"])\n",
    "    for char in expression:\n",
    "        if char not in operators:\n",
    "            stack.append(char)\n",
    "        else:\n",
    "            operand2 = stack.pop()\n",
    "            operand1 = stack.pop()\n",
    "            stack.append(char + operand1 + operand2)\n",
    "    return stack.pop()\n",
    "\n",
    "expression = \"2 3 + 4 *\"\n",
    "prefix_expression = postfix_to_prefix(expression)\n",
    "print(\"The prefix expression is:\", prefix_expression)\n"
   ]
  },
  {
   "cell_type": "markdown",
   "id": "dc39d098",
   "metadata": {},
   "source": [
    "# 7. Write a program to convert prefix expression to infix expression."
   ]
  },
  {
   "cell_type": "code",
   "execution_count": 34,
   "id": "be798e54",
   "metadata": {},
   "outputs": [
    {
     "name": "stdout",
     "output_type": "stream",
     "text": [
      "The infix expression is: ((2+3)*(4^5))\n"
     ]
    }
   ],
   "source": [
    "def prefix_to_infix(expression):\n",
    "    stack = []\n",
    "    operators = set([\"+\", \"-\", \"*\", \"/\", \"^\"])\n",
    "    for char in expression[::-1]:\n",
    "        if char not in operators:\n",
    "            stack.append(char)\n",
    "        else:\n",
    "            operand1 = stack.pop()\n",
    "            operand2 = stack.pop()\n",
    "            stack.append(\"(\" + operand1 + char + operand2 + \")\")\n",
    "    return stack.pop()\n",
    "expression = \"*+23^45\"\n",
    "infix_expression = prefix_to_infix(expression)\n",
    "print(\"The infix expression is:\", infix_expression)"
   ]
  },
  {
   "cell_type": "markdown",
   "id": "ad7968be",
   "metadata": {},
   "source": [
    "# 8. Write a program to check if all the brackets are closed in a given code snippet."
   ]
  },
  {
   "cell_type": "code",
   "execution_count": 55,
   "id": "a687b22e",
   "metadata": {},
   "outputs": [
    {
     "name": "stdout",
     "output_type": "stream",
     "text": [
      "The brackets are balanced.\n"
     ]
    }
   ],
   "source": [
    "def check_brackets(code):\n",
    "    stack = []\n",
    "    open_brackets = set([\"(\", \"[\", \"{\"])\n",
    "    close_brackets = set([\")\", \"]\", \"}\"])\n",
    "    brackets = {\"(\": \")\", \"[\": \"]\", \"{\": \"}\"}\n",
    "    for char in code:\n",
    "        if char in open_brackets:\n",
    "            stack.append(char)\n",
    "        elif char in close_brackets:\n",
    "            if not stack:\n",
    "                return False\n",
    "            if brackets[stack[-1]] == char:\n",
    "                stack.pop()\n",
    "            else:\n",
    "                return False\n",
    "    return not stack\n",
    "\n",
    "code = \"def square(num): return (num ** 2)\"\n",
    "if check_brackets(code):\n",
    "    print(\"The brackets are balanced.\")\n",
    "else:\n",
    "    print(\"The brackets are not balanced.\")\n"
   ]
  },
  {
   "cell_type": "markdown",
   "id": "7776f33c",
   "metadata": {},
   "source": [
    "# 9. Write a program to reverse a stack."
   ]
  },
  {
   "cell_type": "code",
   "execution_count": 56,
   "id": "48efc890",
   "metadata": {},
   "outputs": [
    {
     "name": "stdout",
     "output_type": "stream",
     "text": [
      "enter values separated by spaces : 1 2 3 5 4 \n",
      "Original Stack:  [1, 2, 3, 5, 4]\n",
      "Reversed Stack:  [4, 5, 3, 2, 1]\n"
     ]
    }
   ],
   "source": [
    "def reverse_stack(stack):\n",
    "    rev_stack = []\n",
    "    while stack:\n",
    "        rev_stack.append(stack.pop())\n",
    "    return rev_stack\n",
    "    \n",
    "stack = list(int(i) for i in input(\"enter values separated by spaces : \").split())\n",
    "print(\"Original Stack: \", stack)\n",
    "print(\"Reversed Stack: \",reverse_stack(stack))\n",
    "\n"
   ]
  },
  {
   "cell_type": "markdown",
   "id": "f5d6f134",
   "metadata": {},
   "source": [
    "# 10. Write a program to find the smallest number using a stack."
   ]
  },
  {
   "cell_type": "code",
   "execution_count": 54,
   "id": "eb71ad1b",
   "metadata": {},
   "outputs": [
    {
     "name": "stdout",
     "output_type": "stream",
     "text": [
      "enter values separated by spaces : 1 0 9 8\n",
      "Smallest number using stack :  0\n"
     ]
    }
   ],
   "source": [
    "def small_in_stack(stack):\n",
    "    new_stack = []\n",
    "    for num in stack:\n",
    "        if not new_stack or num < new_stack[-1]:\n",
    "            new_stack.append(num)\n",
    "    return new_stack[-1]\n",
    "        \n",
    "stack=list(int(i) for i in input(\"enter values separated by spaces : \").split())\n",
    "print(\"Smallest number using stack : \", small_in_stack(stack))\n"
   ]
  }
 ],
 "metadata": {
  "kernelspec": {
   "display_name": "Python 3 (ipykernel)",
   "language": "python",
   "name": "python3"
  },
  "language_info": {
   "codemirror_mode": {
    "name": "ipython",
    "version": 3
   },
   "file_extension": ".py",
   "mimetype": "text/x-python",
   "name": "python",
   "nbconvert_exporter": "python",
   "pygments_lexer": "ipython3",
   "version": "3.9.13"
  }
 },
 "nbformat": 4,
 "nbformat_minor": 5
}
