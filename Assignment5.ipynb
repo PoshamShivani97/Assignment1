{
 "cells": [
  {
   "cell_type": "markdown",
   "id": "5586124c",
   "metadata": {},
   "source": [
    "# Challenge 1: Square Numbers and Return Their Sum"
   ]
  },
  {
   "cell_type": "code",
   "execution_count": 10,
   "id": "ee6b44e1",
   "metadata": {},
   "outputs": [
    {
     "name": "stdout",
     "output_type": "stream",
     "text": [
      "Enter x Value : 1\n",
      "Enter y Value : 3\n",
      "Enter z Value : 5\n",
      "sum of squares :  35\n"
     ]
    }
   ],
   "source": [
    "class Point:\n",
    "    def __init__(self,x,y,z):\n",
    "        self.x=x\n",
    "        self.y=y\n",
    "        self.z=z\n",
    "    def sqSum(self):\n",
    "        return (self.x**2)+(self.y**2)+(self.z**2)\n",
    "    \n",
    "x=int(input(\"Enter x Value : \"))\n",
    "y=int(input(\"Enter y Value : \"))\n",
    "z=int(input(\"Enter z Value : \"))\n",
    "obj=Point(x, y, z)\n",
    "print(\"sum of squares : \", obj.sqSum())"
   ]
  },
  {
   "cell_type": "markdown",
   "id": "512910e8",
   "metadata": {},
   "source": [
    "# Challenge 2: Implement a Calculator Class"
   ]
  },
  {
   "cell_type": "code",
   "execution_count": 15,
   "id": "ab6b40d2",
   "metadata": {},
   "outputs": [
    {
     "name": "stdout",
     "output_type": "stream",
     "text": [
      "enter first number : 94\n",
      "enter second number : 10\n",
      "Addition :  104\n",
      "Subtraction :  84\n",
      "Multiplication :  940\n",
      "Division :  9.4\n"
     ]
    }
   ],
   "source": [
    "class Calculator:\n",
    "\n",
    "    def __init__(self,num1,num2):\n",
    "        self.num1=num1\n",
    "        self.num2=num2\n",
    "    def add(self):\n",
    "        return int(num1+num2)\n",
    "    def subtract(self):\n",
    "        return int(num1-num2)\n",
    "    def multiply(self):\n",
    "        return int(num1*num2)\n",
    "    def divide(self):\n",
    "        return float(num1/num2)\n",
    "    \n",
    "\n",
    "num1=float(input(\"enter first number : \"))\n",
    "num2=float(input(\"enter second number : \"))\n",
    "obj=Calculator(num1, num2)\n",
    "print(\"Addition : \", obj.add())\n",
    "print(\"Subtraction : \", obj.subtract())\n",
    "print(\"Multiplication : \", obj.multiply())\n",
    "print(\"Division : \", obj.divide())\n"
   ]
  },
  {
   "cell_type": "markdown",
   "id": "d11b1447",
   "metadata": {},
   "source": [
    "# Challenge 3: Implement the Complete Student Class"
   ]
  },
  {
   "cell_type": "code",
   "execution_count": 8,
   "id": "57e226cc",
   "metadata": {},
   "outputs": [
    {
     "name": "stdout",
     "output_type": "stream",
     "text": [
      "Enter name of student : Ashish\n",
      "Enter Roll number of student : 45\n",
      "Ashish\n",
      "45\n"
     ]
    }
   ],
   "source": [
    "class Student:\n",
    "    def __init__(self,Name=\"\",Rno=0):\n",
    "        self.Name=Name\n",
    "        self.Rno=Rno\n",
    "    def getName(self):\n",
    "        return self.Name\n",
    "    def setName(self, N):\n",
    "        self.Name=N\n",
    "    def getRollNumber(self):\n",
    "        return self.Rno\n",
    "    def setRollNumber(self, r):\n",
    "        self.Rno=r\n",
    "Name=input(\"Enter name of student : \")\n",
    "Rno=int(input(\"Enter Roll number of student : \"))\n",
    "Obj=Student()\n",
    "Obj.setName(Name)\n",
    "print(Obj.getName())\n",
    "Obj.setRollNumber(Rno)\n",
    "print(Obj.getRollNumber())"
   ]
  },
  {
   "cell_type": "markdown",
   "id": "f5952a96",
   "metadata": {},
   "source": [
    "# Challenge 4 : Implementing Bank Account"
   ]
  },
  {
   "cell_type": "code",
   "execution_count": 11,
   "id": "e8cc6de4",
   "metadata": {},
   "outputs": [
    {
     "name": "stdout",
     "output_type": "stream",
     "text": [
      "enter name for Account: Ashish\n",
      "enter Bank Balance for Account : 5000\n",
      "Acount Details :  ('Ashish', 5000)\n",
      "enter name for SavingsAccount : Ashish\n",
      "enter Bank Balance for SavingsAccount : 5000\n",
      "enter intrest for SavingsAccount: 5\n",
      "Savings Account Details :  ('Ashish', 5000, 5)\n"
     ]
    }
   ],
   "source": [
    "class Account:\n",
    "    def __init__(self,title=None,Balance=0):\n",
    "        self.title=title\n",
    "        self.Balance=Balance\n",
    "    def print_Acc(self):\n",
    "        return self.title,self.Balance\n",
    "class savingsAccount(Account):\n",
    "    def __init__(self, title, Balance,intrestRate):\n",
    "        Account.__init__(self,title,Balance)\n",
    "        self.intrestRate=intrestRate\n",
    "    def print_savingsAcc(self):\n",
    "        return self.title,self.Balance,self.intrestRate\n",
    "obj1=Account(str(input(\"enter name for Account: \")), int(input(\"enter Bank Balance for Account : \")))\n",
    "print(\"Acount Details : \", obj1.print_Acc())\n",
    "obj2=savingsAccount(str(input(\"enter name for SavingsAccount : \")), int(input(\"enter Bank Balance for SavingsAccount : \")), int(input(\"enter intrest for SavingsAccount: \")))\n",
    "print(\"Savings Account Details : \", obj2.print_savingsAcc())    \n"
   ]
  },
  {
   "cell_type": "markdown",
   "id": "93a7248b",
   "metadata": {},
   "source": [
    "# Challenge 5 : Handling a Bank Account"
   ]
  },
  {
   "cell_type": "code",
   "execution_count": 16,
   "id": "b4c862c5",
   "metadata": {},
   "outputs": [
    {
     "name": "stdout",
     "output_type": "stream",
     "text": [
      "enter name : Ashish\n",
      "enter balance : 2000\n",
      "enter amount for deposit :500\n",
      "enter amount for withdrawal : 500\n",
      "total balance after deposit & withdrawal :  2000\n",
      "please enter intrest : 5\n",
      "intrest amount is :  100\n"
     ]
    }
   ],
   "source": [
    "class Account:\n",
    "    def __init__(self, title=None, balance=0):\n",
    "        self.title = title\n",
    "        self.balance = balance\n",
    "    \n",
    "    def withdrawal(self, amount):       #function to withdraw money from account\n",
    "        self.balance-=amount\n",
    "\n",
    "    def deposit(self, amount):          #function to deposit money from account\n",
    "        self.balance+=amount\n",
    "    \n",
    "    def getBalance(self):               #function to get total balance\n",
    "        return self.balance\n",
    "\n",
    "class SavingsAccount(Account):          #inheriting Account to derive all the functions of Account\n",
    "    def __init__(self, title=None, balance=0, interestRate=0):\n",
    "            super().__init__(title, balance)        #getting all the variables from parent class\n",
    "            self.interestRate = interestRate\n",
    "    \n",
    "    def interestAmount(self):                       #function to calculate intrest rate \n",
    "        intrestamount=(self.interestRate * self.balance)/100\n",
    "        return int(intrestamount)\n",
    "\n",
    "\n",
    "title=str(input(\"enter name : \")) \n",
    "balance=int(input(\"enter balance : \"))\n",
    "a=Account(title,balance)                        #initializing object for Account class\n",
    "\n",
    "d_Amnt=int(input(\"enter amount for deposit :\"))\n",
    "a.deposit(d_Amnt)                              #calling deposit function of account class\n",
    "\n",
    "withdraw_amnt=int(input(\"enter amount for withdrawal : \"))\n",
    "a.withdrawal(withdraw_amnt)                    #callling withdraw function of account class\n",
    "\n",
    "print(\"total balance after deposit & withdrawal : \", a.getBalance())                          #displaying total amount after deposit and withdraw\n",
    "\n",
    "demo1 = SavingsAccount(title, balance, int(input(\"please enter intrest : \")))   # initializing a SavingsAccount object\n",
    "print(\"intrest amount is : \", demo1.interestAmount())                     #calculating intrest amount"
   ]
  }
 ],
 "metadata": {
  "kernelspec": {
   "display_name": "Python 3 (ipykernel)",
   "language": "python",
   "name": "python3"
  },
  "language_info": {
   "codemirror_mode": {
    "name": "ipython",
    "version": 3
   },
   "file_extension": ".py",
   "mimetype": "text/x-python",
   "name": "python",
   "nbconvert_exporter": "python",
   "pygments_lexer": "ipython3",
   "version": "3.9.13"
  }
 },
 "nbformat": 4,
 "nbformat_minor": 5
}
