{
 "cells": [
  {
   "cell_type": "markdown",
   "id": "0e3cd215",
   "metadata": {},
   "source": [
    "# Assignment 1.1: Write a python program that reads this information from the JSON file and saves the information into a list of objects of Employee class. Finally print the list of the Employee objects."
   ]
  },
  {
   "cell_type": "code",
   "execution_count": null,
   "id": "a01e09f6",
   "metadata": {},
   "outputs": [],
   "source": [
    "import json"
   ]
  },
  {
   "cell_type": "code",
   "execution_count": 4,
   "id": "5dd76378",
   "metadata": {},
   "outputs": [],
   "source": [
    "file_name=r\"C:\\Users\\posha\\Downloads\\jsonData.json\""
   ]
  },
  {
   "cell_type": "code",
   "execution_count": 5,
   "id": "2dac1a57",
   "metadata": {},
   "outputs": [],
   "source": [
    "with open(file_name, 'r') as file:\n",
    "    data = json.load(file)\n"
   ]
  },
  {
   "cell_type": "code",
   "execution_count": 6,
   "id": "cf55b52b",
   "metadata": {},
   "outputs": [
    {
     "data": {
      "text/plain": [
       "[{'Employees': [{'Name': 'Ansh',\n",
       "    'DOB': '26/11/1998',\n",
       "    'Height': '5.4',\n",
       "    'City': 'Hyderabad',\n",
       "    'State': 'Telangana'},\n",
       "   {'Name': 'Akanksh',\n",
       "    'DOB': '13/05/1996',\n",
       "    'Height': '6.0',\n",
       "    'City': 'Karimnagar',\n",
       "    'State': 'Telangana'},\n",
       "   {'Name': 'Chinnu',\n",
       "    'DOB': '12/01/1994',\n",
       "    'Height': '5.4',\n",
       "    'City': 'Surat',\n",
       "    'State': 'Gujarat'},\n",
       "   {'Name': 'Bannu',\n",
       "    'DOB': '11/11/1999',\n",
       "    'Height': '5.2',\n",
       "    'City': 'Rajkot',\n",
       "    'State': 'Gujarat'},\n",
       "   {'Name': 'Ishithaa',\n",
       "    'DOB': '29/02/2020',\n",
       "    'Height': '5.6',\n",
       "    'City': 'Chennai',\n",
       "    'State': 'Tamilnadu'}]}]"
      ]
     },
     "execution_count": 6,
     "metadata": {},
     "output_type": "execute_result"
    }
   ],
   "source": [
    "list_data=[data]\n",
    "list_data"
   ]
  },
  {
   "cell_type": "code",
   "execution_count": 7,
   "id": "67c0a0a4",
   "metadata": {},
   "outputs": [
    {
     "data": {
      "text/plain": [
       "list"
      ]
     },
     "execution_count": 7,
     "metadata": {},
     "output_type": "execute_result"
    }
   ],
   "source": [
    "type(list_data)"
   ]
  },
  {
   "cell_type": "markdown",
   "id": "f75226fb",
   "metadata": {},
   "source": [
    "# Assignment 1.2: Create a dictionary of any 7 Indian states and their capitals. Write this into a JSON file."
   ]
  },
  {
   "cell_type": "code",
   "execution_count": 8,
   "id": "c3a130c6",
   "metadata": {},
   "outputs": [
    {
     "name": "stdout",
     "output_type": "stream",
     "text": [
      "{'Telangana': 'Hyderabad', 'Assam': 'Dispur', 'Arunachal Pradesh': 'Itanagar', 'Tripura': 'Agartala', 'Meghalaya': 'Mizoram', 'Bihar': 'Patna', 'Goa': 'Panaji'}\n"
     ]
    }
   ],
   "source": [
    "state_capital_dict={}\n",
    "state_capital_dict[\"Telangana\"]=\"Hyderabad\"\n",
    "state_capital_dict[\"Assam\"]=\"Dispur\"\n",
    "state_capital_dict[\"Arunachal Pradesh\"]=\"Itanagar\"\n",
    "state_capital_dict[\"Tripura\"]=\"Agartala\"\n",
    "state_capital_dict[\"Meghalaya\"]=\"Mizoram\"\n",
    "state_capital_dict[\"Bihar\"]=\"Patna\"\n",
    "state_capital_dict[\"Goa\"]=\"Panaji\"\n",
    "print(state_capital_dict)\n"
   ]
  },
  {
   "cell_type": "code",
   "execution_count": 37,
   "id": "08c29a07",
   "metadata": {},
   "outputs": [],
   "source": [
    "with open(r\"C:\\Users\\posha\\Downloads\\State_capital.json\", 'w') as file:\n",
    "    json.dump(state_capital_dict, file)"
   ]
  },
  {
   "cell_type": "code",
   "execution_count": null,
   "id": "5e672731",
   "metadata": {},
   "outputs": [],
   "source": []
  }
 ],
 "metadata": {
  "kernelspec": {
   "display_name": "Python 3 (ipykernel)",
   "language": "python",
   "name": "python3"
  },
  "language_info": {
   "codemirror_mode": {
    "name": "ipython",
    "version": 3
   },
   "file_extension": ".py",
   "mimetype": "text/x-python",
   "name": "python",
   "nbconvert_exporter": "python",
   "pygments_lexer": "ipython3",
   "version": "3.9.13"
  }
 },
 "nbformat": 4,
 "nbformat_minor": 5
}
