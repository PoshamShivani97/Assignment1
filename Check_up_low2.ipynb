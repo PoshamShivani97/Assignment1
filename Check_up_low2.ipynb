{
 "cells": [
  {
   "cell_type": "code",
   "execution_count": 1,
   "id": "281fe5a5",
   "metadata": {},
   "outputs": [
    {
     "name": "stdout",
     "output_type": "stream",
     "text": [
      "enter Input string: The quick Brow Fox\n",
      "No of Upper characters :  3\n",
      "No of Lower characters :  12\n"
     ]
    }
   ],
   "source": [
    "def Check_Case(String):\n",
    "    Upper_count=0\n",
    "    Lower_count=0\n",
    "    for each in String:\n",
    "        if each.isupper():\n",
    "            Upper_count+=1\n",
    "        elif each.islower():\n",
    "            Lower_count+=1\n",
    "        else:\n",
    "            pass\n",
    "    print(\"No of Upper characters : \", Upper_count)\n",
    "    print(\"No of Lower characters : \", Lower_count)\n",
    "inp_str=str(input(\"enter Input string: \"))\n",
    "Check_Case(inp_str)    "
   ]
  },
  {
   "cell_type": "code",
   "execution_count": null,
   "id": "927148e2",
   "metadata": {},
   "outputs": [],
   "source": []
  }
 ],
 "metadata": {
  "kernelspec": {
   "display_name": "Python 3 (ipykernel)",
   "language": "python",
   "name": "python3"
  },
  "language_info": {
   "codemirror_mode": {
    "name": "ipython",
    "version": 3
   },
   "file_extension": ".py",
   "mimetype": "text/x-python",
   "name": "python",
   "nbconvert_exporter": "python",
   "pygments_lexer": "ipython3",
   "version": "3.9.13"
  }
 },
 "nbformat": 4,
 "nbformat_minor": 5
}
