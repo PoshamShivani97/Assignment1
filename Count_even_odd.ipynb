{
 "cells": [
  {
   "cell_type": "code",
   "execution_count": 1,
   "id": "97131885",
   "metadata": {},
   "outputs": [
    {
     "name": "stdout",
     "output_type": "stream",
     "text": [
      "Please give input separated by Spaces 5 \n",
      "Count of Even numbers: 0\n",
      "Count of Odd numbers: 1\n"
     ]
    }
   ],
   "source": [
    "Inp=tuple(map(int,input(\"Please give input separated by Spaces: \").split()))\n",
    "even_cnt=0\n",
    "odd_cnt=0\n",
    "for i in Inp:\n",
    "    if (i%2==0):\n",
    "        even_cnt+=1\n",
    "    else:\n",
    "        odd_cnt+=1\n",
    "print(\"Count of Even numbers:\",even_cnt)\n",
    "print(\"Count of Odd numbers:\",odd_cnt)\n",
    "    "
   ]
  },
  {
   "cell_type": "code",
   "execution_count": null,
   "id": "c3818394",
   "metadata": {},
   "outputs": [],
   "source": []
  }
 ],
 "metadata": {
  "kernelspec": {
   "display_name": "Python 3 (ipykernel)",
   "language": "python",
   "name": "python3"
  },
  "language_info": {
   "codemirror_mode": {
    "name": "ipython",
    "version": 3
   },
   "file_extension": ".py",
   "mimetype": "text/x-python",
   "name": "python",
   "nbconvert_exporter": "python",
   "pygments_lexer": "ipython3",
   "version": "3.9.13"
  }
 },
 "nbformat": 4,
 "nbformat_minor": 5
}
