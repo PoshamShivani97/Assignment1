{
 "cells": [
  {
   "cell_type": "markdown",
   "id": "bf2a3c61",
   "metadata": {},
   "source": [
    "# 1. Delete the elements in an linked list whose sum is equal to zero"
   ]
  },
  {
   "cell_type": "code",
   "execution_count": 6,
   "id": "28add31c",
   "metadata": {},
   "outputs": [
    {
     "name": "stdout",
     "output_type": "stream",
     "text": [
      "Original Linked List:\n",
      "1 2 -3 3 1 \n",
      "Modified Linked List:\n",
      "3 1 \n"
     ]
    }
   ],
   "source": [
    "class Node:\n",
    "    def __init__(self, data):\n",
    "        self.data = data\n",
    "        self.next = None\n",
    "\n",
    "def delete_zero_sum(head):\n",
    "    sum_dict = {}\n",
    "    current = head\n",
    "    prefix_sum = 0\n",
    "    while current is not None:\n",
    "        prefix_sum += current.data\n",
    "        if prefix_sum == 0:\n",
    "            head = current.next\n",
    "            current = head\n",
    "            sum_dict.clear()\n",
    "        elif prefix_sum in sum_dict:\n",
    "            sum_dict[prefix_sum].next = current.next\n",
    "            current = head = sum_dict[prefix_sum].next\n",
    "            sum_dict.clear()\n",
    "        else:\n",
    "            sum_dict[prefix_sum] = current\n",
    "            current = current.next\n",
    "    return head\n",
    "\n",
    "\n",
    "# Create a linked list 1 -> 2 -> -3 -> 3 -> 1\n",
    "head = Node(1)\n",
    "head.next = Node(2)\n",
    "head.next.next = Node(-3)\n",
    "head.next.next.next = Node(3)\n",
    "head.next.next.next.next = Node(1)\n",
    "\n",
    "# Print the original linked list\n",
    "print(\"Original Linked List:\")\n",
    "current = head\n",
    "while current is not None:\n",
    "    print(current.data, end=\" \")\n",
    "    current = current.next\n",
    "print()\n",
    "\n",
    "# Delete the elements in the linked list whose sum is equal to zero\n",
    "head = delete_zero_sum(head)\n",
    "\n",
    "# Print the modified linked list\n",
    "print(\"Modified Linked List:\")\n",
    "current = head\n",
    "while current is not None:\n",
    "    print(current.data, end=\" \")\n",
    "    current = current.next\n",
    "print()\n"
   ]
  },
  {
   "cell_type": "markdown",
   "id": "c26d4d17",
   "metadata": {},
   "source": [
    "# 2. Reverse a linked list in groups of given size"
   ]
  },
  {
   "cell_type": "code",
   "execution_count": 7,
   "id": "6ce472ed",
   "metadata": {},
   "outputs": [
    {
     "name": "stdout",
     "output_type": "stream",
     "text": [
      "5 4 3 2 1 "
     ]
    }
   ],
   "source": [
    "class ListNode:\n",
    "    def __init__(self, val=0, next=None):\n",
    "        self.val = val\n",
    "        self.next = next\n",
    "\n",
    "class Solution:\n",
    "    def reverseList(self, head: ListNode) -> ListNode:\n",
    "        prev = None\n",
    "        curr = head\n",
    "        \n",
    "        while curr:\n",
    "            next_node = curr.next\n",
    "            curr.next = prev\n",
    "            prev = curr\n",
    "            curr = next_node\n",
    "        \n",
    "        return prev\n",
    "\n",
    "# create a linked list\n",
    "head = ListNode(1)\n",
    "head.next = ListNode(2)\n",
    "head.next.next = ListNode(3)\n",
    "head.next.next.next = ListNode(4)\n",
    "head.next.next.next.next = ListNode(5)\n",
    "\n",
    "# reverse the linked list\n",
    "solution = Solution()\n",
    "result = solution.reverseList(head)\n",
    "\n",
    "# print the result\n",
    "while result:\n",
    "    print(result.val, end=\" \")\n",
    "    result = result.next\n"
   ]
  },
  {
   "cell_type": "markdown",
   "id": "885aece2",
   "metadata": {},
   "source": [
    "# 3. Merge a linked list into another linked list at alternate positions.\n"
   ]
  },
  {
   "cell_type": "code",
   "execution_count": 8,
   "id": "d6992854",
   "metadata": {},
   "outputs": [
    {
     "name": "stdout",
     "output_type": "stream",
     "text": [
      "1 2 3 4 5 6 "
     ]
    }
   ],
   "source": [
    "class ListNode:\n",
    "    def __init__(self, val=0, next=None):\n",
    "        self.val = val\n",
    "        self.next = next\n",
    "\n",
    "class Solution:\n",
    "    def mergeAlternating(self, l1: ListNode, l2: ListNode) -> ListNode:\n",
    "        if not l1:\n",
    "            return l2\n",
    "        if not l2:\n",
    "            return l1\n",
    "        \n",
    "        curr1 = l1\n",
    "        curr2 = l2\n",
    "        \n",
    "        while curr1 and curr2:\n",
    "            next1 = curr1.next\n",
    "            next2 = curr2.next\n",
    "            \n",
    "            curr1.next = curr2\n",
    "            curr2.next = next1\n",
    "            \n",
    "            curr1 = next1\n",
    "            curr2 = next2\n",
    "        \n",
    "        return l1\n",
    "    \n",
    "# create two linked lists\n",
    "l1 = ListNode(1)\n",
    "l1.next = ListNode(3)\n",
    "l1.next.next = ListNode(5)\n",
    "\n",
    "l2 = ListNode(2)\n",
    "l2.next = ListNode(4)\n",
    "l2.next.next = ListNode(6)\n",
    "\n",
    "# merge the linked lists at alternate positions\n",
    "solution = Solution()\n",
    "result = solution.mergeAlternating(l1, l2)\n",
    "\n",
    "# print the result\n",
    "while result:\n",
    "    print(result.val, end=\" \")\n",
    "    result = result.next\n"
   ]
  },
  {
   "cell_type": "markdown",
   "id": "4717fe43",
   "metadata": {},
   "source": [
    "# 4. In an array, Count Pairs with given sum"
   ]
  },
  {
   "cell_type": "code",
   "execution_count": 9,
   "id": "566de4fd",
   "metadata": {},
   "outputs": [
    {
     "name": "stdout",
     "output_type": "stream",
     "text": [
      "1 2 3 4 5 1 2 3\n",
      "Enter Target Sum : 6\n",
      "Count of pairs in the array is 5\n"
     ]
    }
   ],
   "source": [
    "def countPairsWithSum(arr, targetSum):\n",
    "    count = 0\n",
    "    for i in range(len(arr)):\n",
    "        for j in range(i + 1, len(arr)):\n",
    "            if arr[i] + arr[j] == targetSum:\n",
    "                count += 1\n",
    "    \n",
    "    return count\n",
    "\n",
    "arr = list(map(int,input().split()))\n",
    "targetSum = int(input(\"Enter Target Sum : \"))\n",
    "count = countPairsWithSum(arr, targetSum)\n",
    "print(\"Count of pairs in the array\", \"is\", count)\n"
   ]
  },
  {
   "cell_type": "markdown",
   "id": "9746885f",
   "metadata": {},
   "source": [
    "# 5. Find duplicates in an array"
   ]
  },
  {
   "cell_type": "code",
   "execution_count": 10,
   "id": "09f04142",
   "metadata": {},
   "outputs": [
    {
     "name": "stdout",
     "output_type": "stream",
     "text": [
      "1 2 3 1 2 3 2 1 2\n",
      "Duplicates in the array are [1, 2, 3]\n"
     ]
    }
   ],
   "source": [
    "def findDuplicates(arr):\n",
    "    duplicates = []\n",
    "    for i in range(len(arr)):\n",
    "        for j in range(i+1, len(arr)):\n",
    "            if arr[i] == arr[j]:\n",
    "                if arr[i] not in duplicates:\n",
    "                    duplicates.append(arr[i])\n",
    "    return duplicates\n",
    "\n",
    "arr = list(map(int, input().split()))\n",
    "duplicates = findDuplicates(arr)\n",
    "print(\"Duplicates in the array are\", duplicates)\n"
   ]
  },
  {
   "cell_type": "markdown",
   "id": "3869b864",
   "metadata": {},
   "source": [
    "# 6. Find the Kth largest and Kth smallest number in an array"
   ]
  },
  {
   "cell_type": "code",
   "execution_count": 1,
   "id": "536d48ed",
   "metadata": {},
   "outputs": [
    {
     "name": "stdout",
     "output_type": "stream",
     "text": [
      "1 5 7 2 4 6 8 3\n",
      "Enter K Value : 3\n",
      "The 3 th largest number in the array is 6\n"
     ]
    }
   ],
   "source": [
    "def findKthLargest(arr, k):\n",
    "    arr.sort(reverse=True)\n",
    "    return arr[k-1]\n",
    "\n",
    "arr = list(map(int, input().split())) \n",
    "k = int(input(\"Enter K Value : \"))\n",
    "kth_largest = findKthLargest(arr, k)\n",
    "print(\"The\", k, \"th largest number in the array is\", kth_largest)\n"
   ]
  },
  {
   "cell_type": "markdown",
   "id": "c710334b",
   "metadata": {},
   "source": [
    "# 7. Move all the negative elements to one side of the array"
   ]
  },
  {
   "cell_type": "code",
   "execution_count": 2,
   "id": "79c9fd54",
   "metadata": {},
   "outputs": [
    {
     "name": "stdout",
     "output_type": "stream",
     "text": [
      "-1 2 -3 4 -5 6 -7 8 9\n",
      "Array with negative elements moved to one side: [-1, -3, -5, -7, 2, 6, 4, 8, 9]\n"
     ]
    }
   ],
   "source": [
    "def moveNegatives(arr):\n",
    "    j = 0\n",
    "    for i in range(len(arr)):\n",
    "        if arr[i] < 0:\n",
    "            arr[i], arr[j] = arr[j], arr[i]\n",
    "            j += 1\n",
    "    return arr\n",
    "\n",
    "arr = list(map(int, input().split())) # [-1, 2, -3, 4, -5, 6, -7, 8, 9]\n",
    "arr = moveNegatives(arr)\n",
    "print(\"Array with negative elements moved to one side:\", arr)\n"
   ]
  },
  {
   "cell_type": "markdown",
   "id": "d5b9d1de",
   "metadata": {},
   "source": [
    "# 8. Reverse a string using a stack data structure"
   ]
  },
  {
   "cell_type": "code",
   "execution_count": 3,
   "id": "00b019fa",
   "metadata": {},
   "outputs": [
    {
     "name": "stdout",
     "output_type": "stream",
     "text": [
      "Enter String : Hello World!\n",
      "Original string: Hello World!\n",
      "Reversed string: !dlroW olleH\n"
     ]
    }
   ],
   "source": [
    "def reverseString(s):\n",
    "    stack = []\n",
    "    for char in s:\n",
    "        stack.append(char)\n",
    "    reversed_str = \"\"\n",
    "    while stack:\n",
    "        reversed_str += stack.pop()\n",
    "    return reversed_str\n",
    "\n",
    "s = str(input(\"Enter String : \"))\n",
    "reversed_str = reverseString(s)\n",
    "print(\"Original string:\", s)\n",
    "print(\"Reversed string:\", reversed_str)\n"
   ]
  },
  {
   "cell_type": "markdown",
   "id": "5f57ac28",
   "metadata": {},
   "source": [
    "# 9. Evaluate a postfix expression using stack"
   ]
  },
  {
   "cell_type": "code",
   "execution_count": 4,
   "id": "cc629812",
   "metadata": {},
   "outputs": [
    {
     "name": "stdout",
     "output_type": "stream",
     "text": [
      "Result of postfix expression evaluation: 25\n"
     ]
    }
   ],
   "source": [
    "def evaluatePostfix(expression):\n",
    "    stack = []\n",
    "    for char in expression:\n",
    "        if char.isdigit():\n",
    "            stack.append(int(char))\n",
    "        else:\n",
    "            operand2 = stack.pop()\n",
    "            operand1 = stack.pop()\n",
    "            result = performOperation(char, operand1, operand2)\n",
    "            stack.append(result)\n",
    "    return stack.pop()\n",
    "\n",
    "def performOperation(operator, operand1, operand2):\n",
    "    if operator == \"+\":\n",
    "        return operand1 + operand2\n",
    "    elif operator == \"-\":\n",
    "        return operand1 - operand2\n",
    "    elif operator == \"*\":\n",
    "        return operand1 * operand2\n",
    "    elif operator == \"/\":\n",
    "        return operand1 / operand2\n",
    "\n",
    "expression = \"23+5*\"\n",
    "result = evaluatePostfix(expression)\n",
    "print(\"Result of postfix expression evaluation:\", result)\n"
   ]
  },
  {
   "cell_type": "markdown",
   "id": "123d9023",
   "metadata": {},
   "source": [
    "# 10. Implement a queue using the stack data structure"
   ]
  },
  {
   "cell_type": "code",
   "execution_count": 5,
   "id": "a58bfd1a",
   "metadata": {},
   "outputs": [
    {
     "name": "stdout",
     "output_type": "stream",
     "text": [
      "1\n",
      "2\n",
      "3\n",
      "4\n"
     ]
    }
   ],
   "source": [
    "class QueueUsingStack:\n",
    "    def __init__(self):\n",
    "        self.stack1 = []\n",
    "        self.stack2 = []\n",
    "\n",
    "    def enqueue(self, element):\n",
    "        self.stack1.append(element)\n",
    "\n",
    "    def dequeue(self):\n",
    "        if not self.stack2:\n",
    "            while self.stack1:\n",
    "                self.stack2.append(self.stack1.pop())\n",
    "        if not self.stack2:\n",
    "            raise Exception(\"Queue is empty\")\n",
    "        return self.stack2.pop()\n",
    "\n",
    "q = QueueUsingStack()\n",
    "q.enqueue(1)\n",
    "q.enqueue(2)\n",
    "q.enqueue(3)\n",
    "print(q.dequeue())\n",
    "print(q.dequeue())\n",
    "q.enqueue(4)\n",
    "print(q.dequeue())\n",
    "print(q.dequeue())\n"
   ]
  }
 ],
 "metadata": {
  "kernelspec": {
   "display_name": "Python 3 (ipykernel)",
   "language": "python",
   "name": "python3"
  },
  "language_info": {
   "codemirror_mode": {
    "name": "ipython",
    "version": 3
   },
   "file_extension": ".py",
   "mimetype": "text/x-python",
   "name": "python",
   "nbconvert_exporter": "python",
   "pygments_lexer": "ipython3",
   "version": "3.9.13"
  }
 },
 "nbformat": 4,
 "nbformat_minor": 5
}
