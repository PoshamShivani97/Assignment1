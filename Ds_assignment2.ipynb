{
 "cells": [
  {
   "cell_type": "markdown",
   "id": "7b2dc1f3",
   "metadata": {},
   "source": [
    "# 1. Implement Binary Search."
   ]
  },
  {
   "cell_type": "code",
   "execution_count": 2,
   "id": "ee8cbce8",
   "metadata": {},
   "outputs": [
    {
     "name": "stdout",
     "output_type": "stream",
     "text": [
      "1 3 5 7 9\n",
      "Enter Target : 5\n",
      "Element 5 is present at index 2\n"
     ]
    }
   ],
   "source": [
    "def binary_search(arr, target):\n",
    "    low = 0\n",
    "    high = len(arr) - 1\n",
    "    \n",
    "    while low <= high:\n",
    "        mid = (low + high) // 2\n",
    "        \n",
    "        if arr[mid] == target:\n",
    "            return mid\n",
    "        elif arr[mid] < target:\n",
    "            low = mid + 1\n",
    "        else:\n",
    "            high = mid - 1\n",
    "            \n",
    "    return -1\n",
    "\n",
    "\n",
    "arr = list(map(int, input().split()))\n",
    "target = int(input(\"Enter Target : \"))\n",
    "\n",
    "result = binary_search(arr, target)\n",
    "\n",
    "if result != -1:\n",
    "    print(f\"Element {target} is present at index {result}\")\n",
    "else:\n",
    "    print(\"Element is not present in the array\")\n"
   ]
  },
  {
   "cell_type": "markdown",
   "id": "e86d164a",
   "metadata": {},
   "source": [
    "# 2. Implement Merge Sort"
   ]
  },
  {
   "cell_type": "code",
   "execution_count": 3,
   "id": "f2cc3851",
   "metadata": {},
   "outputs": [
    {
     "name": "stdout",
     "output_type": "stream",
     "text": [
      "3 2 1 5 4\n",
      "Unsorted array: [3, 2, 1, 5, 4]\n",
      "Sorted array: [1, 2, 3, 4, 5]\n"
     ]
    }
   ],
   "source": [
    "def merge_sort(arr):\n",
    "    if len(arr) > 1:\n",
    "        mid = len(arr) // 2\n",
    "        left_half = arr[:mid]\n",
    "        right_half = arr[mid:]\n",
    "        \n",
    "        merge_sort(left_half)\n",
    "        merge_sort(right_half)\n",
    "        \n",
    "        i = j = k = 0\n",
    "        \n",
    "        while i < len(left_half) and j < len(right_half):\n",
    "            if left_half[i] < right_half[j]:\n",
    "                arr[k] = left_half[i]\n",
    "                i += 1\n",
    "            else:\n",
    "                arr[k] = right_half[j]\n",
    "                j += 1\n",
    "            k += 1\n",
    "            \n",
    "        while i < len(left_half):\n",
    "            arr[k] = left_half[i]\n",
    "            i += 1\n",
    "            k += 1\n",
    "            \n",
    "        while j < len(right_half):\n",
    "            arr[k] = right_half[j]\n",
    "            j += 1\n",
    "            k += 1\n",
    "            \n",
    "    return arr\n",
    "\n",
    "arr = list(map(int, input().split()))\n",
    "print(f\"Unsorted array: {arr}\")\n",
    "\n",
    "sorted_arr = merge_sort(arr)\n",
    "print(f\"Sorted array: {sorted_arr}\")\n"
   ]
  },
  {
   "cell_type": "markdown",
   "id": "9821f86f",
   "metadata": {},
   "source": [
    "# 3. Implement quick sort"
   ]
  },
  {
   "cell_type": "code",
   "execution_count": 4,
   "id": "b50bac3b",
   "metadata": {},
   "outputs": [
    {
     "name": "stdout",
     "output_type": "stream",
     "text": [
      "3 2 1 5 4\n",
      "Unsorted array: [3, 2, 1, 5, 4]\n",
      "Sorted array: [1, 2, 3, 4, 5]\n"
     ]
    }
   ],
   "source": [
    "def quick_sort(arr):\n",
    "    if len(arr) <= 1:\n",
    "        return arr\n",
    "    else:\n",
    "        pivot = arr[0]\n",
    "        left = []\n",
    "        right = []\n",
    "        for elem in arr[1:]:\n",
    "            if elem <= pivot:\n",
    "                left.append(elem)\n",
    "            else:\n",
    "                right.append(elem)\n",
    "        return quick_sort(left) + [pivot] + quick_sort(right)\n",
    "\n",
    "arr = list(map(int, input().split()))\n",
    "print(f\"Unsorted array: {arr}\")\n",
    "\n",
    "sorted_arr = quick_sort(arr)\n",
    "print(f\"Sorted array: {sorted_arr}\")\n"
   ]
  },
  {
   "cell_type": "markdown",
   "id": "8f1b2170",
   "metadata": {},
   "source": [
    "# 4. Implement Insertion Sort"
   ]
  },
  {
   "cell_type": "code",
   "execution_count": 5,
   "id": "21f2ab58",
   "metadata": {},
   "outputs": [
    {
     "name": "stdout",
     "output_type": "stream",
     "text": [
      "3 2 1 5 4\n",
      "Unsorted array: [3, 2, 1, 5, 4]\n",
      "Sorted array: [1, 2, 3, 4, 5]\n"
     ]
    }
   ],
   "source": [
    "def insertion_sort(arr):\n",
    "    for i in range(1, len(arr)):\n",
    "        key = arr[i]\n",
    "        j = i - 1\n",
    "        while j >= 0 and arr[j] > key:\n",
    "            arr[j + 1] = arr[j]\n",
    "            j -= 1\n",
    "        arr[j + 1] = key\n",
    "    return arr\n",
    "\n",
    "\n",
    "arr = list(map(int, input().split()))\n",
    "print(f\"Unsorted array: {arr}\")\n",
    "\n",
    "sorted_arr = insertion_sort(arr)\n",
    "print(f\"Sorted array: {sorted_arr}\")\n"
   ]
  },
  {
   "cell_type": "markdown",
   "id": "563c5fd2",
   "metadata": {},
   "source": [
    "# Write a program to sort list of strings (similar to that of dictionary)"
   ]
  },
  {
   "cell_type": "code",
   "execution_count": 9,
   "id": "7176bb5c",
   "metadata": {},
   "outputs": [
    {
     "name": "stdout",
     "output_type": "stream",
     "text": [
      "apple banana mango date\n",
      "Unsorted list: ['apple', 'banana', 'mango', 'date']\n",
      "Sorted list: ['apple', 'banana', 'date', 'mango']\n"
     ]
    }
   ],
   "source": [
    "def sort_list(lst):\n",
    "    \"\"\"Sorts a list of strings as if they were dictionary entries.\"\"\"\n",
    "    return sorted(lst)\n",
    "\n",
    "\n",
    "lst = list(map(str, input().split()))\n",
    "print(f\"Unsorted list: {lst}\")\n",
    "\n",
    "sorted_lst = sort_list(lst)\n",
    "print(f\"Sorted list: {sorted_lst}\")\n"
   ]
  },
  {
   "cell_type": "code",
   "execution_count": null,
   "id": "93ff44da",
   "metadata": {},
   "outputs": [],
   "source": []
  }
 ],
 "metadata": {
  "kernelspec": {
   "display_name": "Python 3 (ipykernel)",
   "language": "python",
   "name": "python3"
  },
  "language_info": {
   "codemirror_mode": {
    "name": "ipython",
    "version": 3
   },
   "file_extension": ".py",
   "mimetype": "text/x-python",
   "name": "python",
   "nbconvert_exporter": "python",
   "pygments_lexer": "ipython3",
   "version": "3.9.13"
  }
 },
 "nbformat": 4,
 "nbformat_minor": 5
}
