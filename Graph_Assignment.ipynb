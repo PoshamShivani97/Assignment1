{
 "cells": [
  {
   "cell_type": "markdown",
   "id": "f6d25deb",
   "metadata": {},
   "source": [
    "# 1. Breadth First Traversal for a Graph"
   ]
  },
  {
   "cell_type": "code",
   "execution_count": 4,
   "id": "71ff13cd",
   "metadata": {},
   "outputs": [
    {
     "name": "stdout",
     "output_type": "stream",
     "text": [
      "Following is Breadth First Traversal (starting from vertex 2)\n",
      "2 0 3 1 "
     ]
    }
   ],
   "source": [
    "from collections import defaultdict \n",
    "class Graph:\n",
    "    def __init__(self):\n",
    "        self.graph = defaultdict(list) \n",
    "    def addEdge(self,u,v): \n",
    "        self.graph[u].append(v)\n",
    "    def BFS(self, s):\n",
    "        visited = [False] * (max(self.graph) + 1)\n",
    "        queue = []\n",
    "        queue.append(s) \n",
    "        visited[s] = True\n",
    "  \n",
    "        while queue:\n",
    "            s = queue.pop(0) \n",
    "            print (s, end = \" \") \n",
    "            for i in self.graph[s]: \n",
    "                if visited[i] == False: \n",
    "                    queue.append(i) \n",
    "                    visited[i] = True\n",
    "g = Graph() \n",
    "g.addEdge(0, 1) \n",
    "g.addEdge(0, 2) \n",
    "g.addEdge(1, 2) \n",
    "g.addEdge(2, 0) \n",
    "g.addEdge(2, 3) \n",
    "g.addEdge(3, 3) \n",
    "  \n",
    "print (\"Following is Breadth First Traversal (starting from vertex 2)\") \n",
    "g.BFS(2)\n"
   ]
  },
  {
   "cell_type": "markdown",
   "id": "1302ef17",
   "metadata": {},
   "source": [
    "# 2. Depth First Traversal for a Graph"
   ]
  },
  {
   "cell_type": "code",
   "execution_count": 6,
   "id": "9c11a994",
   "metadata": {},
   "outputs": [
    {
     "name": "stdout",
     "output_type": "stream",
     "text": [
      "Following is Depth First Traversal (starting from vertex 2)\n",
      "2 0 1 3 "
     ]
    }
   ],
   "source": [
    "from collections import defaultdict \n",
    "  \n",
    "class Graph:\n",
    "    def __init__(self):\n",
    "        self.graph = defaultdict(list) \n",
    "    def addEdge(self,u,v): \n",
    "        self.graph[u].append(v)\n",
    "    def DFSUtil(self, v, visited):\n",
    "        visited.add(v) \n",
    "        print(v, end=' ')\n",
    "        for i in self.graph[v]: \n",
    "            if i not in visited: \n",
    "                self.DFSUtil(i, visited) \n",
    "    def DFS(self, v):\n",
    "        visited = set()\n",
    "        self.DFSUtil(v, visited) \n",
    "\n",
    "g = Graph() \n",
    "g.addEdge(0, 1) \n",
    "g.addEdge(0, 2) \n",
    "g.addEdge(1, 2) \n",
    "g.addEdge(2, 0) \n",
    "g.addEdge(2, 3) \n",
    "g.addEdge(3, 3) \n",
    "  \n",
    "print (\"Following is Depth First Traversal (starting from vertex 2)\") \n",
    "g.DFS(2)\n"
   ]
  },
  {
   "cell_type": "markdown",
   "id": "a2c81efe",
   "metadata": {},
   "source": [
    "# 3. Count the number of nodes at given level in a tree using BFS"
   ]
  },
  {
   "cell_type": "code",
   "execution_count": 8,
   "id": "c88d4c87",
   "metadata": {},
   "outputs": [
    {
     "name": "stdout",
     "output_type": "stream",
     "text": [
      "Number of nodes at level 2 is 4\n"
     ]
    }
   ],
   "source": [
    "from collections import deque\n",
    "\n",
    "class Node:\n",
    "    # Constructor to create a new node\n",
    "    def __init__(self, val):\n",
    "        self.val = val\n",
    "        self.left = None\n",
    "        self.right = None\n",
    "def count_nodes_at_level(root, level):\n",
    "    if not root:\n",
    "        return 0\n",
    "    queue = deque()\n",
    "    queue.append(root)\n",
    "    current_level = 0\n",
    "    count = 0\n",
    "\n",
    "    while queue:\n",
    "        size = len(queue)\n",
    "        for i in range(size):\n",
    "            node = queue.popleft()\n",
    "            if current_level == level:\n",
    "                count += 1\n",
    "            if node.left:\n",
    "                queue.append(node.left)\n",
    "            if node.right:\n",
    "                queue.append(node.right)\n",
    "        current_level += 1\n",
    "\n",
    "    return count\n",
    "'''\n",
    "Create the following tree:\n",
    "       1\n",
    "     /   \\\n",
    "    2     3\n",
    "   / \\   / \\\n",
    "  4   5 6   7\n",
    "'''\n",
    "\n",
    "root = Node(1)\n",
    "root.left = Node(2)\n",
    "root.right = Node(3)\n",
    "root.left.left = Node(4)\n",
    "root.left.right = Node(5)\n",
    "root.right.left = Node(6)\n",
    "root.right.right = Node(7)\n",
    "\n",
    "level = 2\n",
    "count = count_nodes_at_level(root, level)\n",
    "print(\"Number of nodes at level\", level, \"is\", count)\n"
   ]
  },
  {
   "cell_type": "markdown",
   "id": "487daf62",
   "metadata": {},
   "source": [
    "# 4. Count number of trees in a forest"
   ]
  },
  {
   "cell_type": "code",
   "execution_count": 9,
   "id": "ab738174",
   "metadata": {},
   "outputs": [
    {
     "name": "stdout",
     "output_type": "stream",
     "text": [
      "The estimated number of trees in the forest is: 564907\n"
     ]
    }
   ],
   "source": [
    "import random\n",
    "forest_area = 100\n",
    "plot_size = 100\n",
    "plots_in_forest = int(forest_area * 10000 / plot_size)\n",
    "avg_trees_per_plot = 50\n",
    "total_trees_in_forest = plots_in_forest * avg_trees_per_plot\n",
    "total_trees_in_forest = int(random.uniform(0.8, 1.2) * total_trees_in_forest)\n",
    "print(\"The estimated number of trees in the forest is:\", total_trees_in_forest)\n"
   ]
  },
  {
   "cell_type": "markdown",
   "id": "8bff12d8",
   "metadata": {},
   "source": [
    "# 5. Detect Cycle in a Directed Graph"
   ]
  },
  {
   "cell_type": "code",
   "execution_count": 10,
   "id": "0c5aa2e6",
   "metadata": {},
   "outputs": [
    {
     "name": "stdout",
     "output_type": "stream",
     "text": [
      "The graph has a cycle\n"
     ]
    }
   ],
   "source": [
    "from collections import defaultdict\n",
    "\n",
    "class Graph:\n",
    "    def __init__(self, vertices):\n",
    "        self.graph = defaultdict(list)\n",
    "        self.V = vertices\n",
    "        \n",
    "    def add_edge(self, u, v):\n",
    "        self.graph[u].append(v)\n",
    "        \n",
    "    def has_cycle(self):\n",
    "        visited = [False] * self.V\n",
    "        stack = [False] * self.V\n",
    "        \n",
    "        for i in range(self.V):\n",
    "            if not visited[i]:\n",
    "                if self.dfs(i, visited, stack):\n",
    "                    return True\n",
    "        \n",
    "        return False\n",
    "    \n",
    "    def dfs(self, vertex, visited, stack):\n",
    "        visited[vertex] = True\n",
    "        stack[vertex] = True\n",
    "        \n",
    "        for neighbor in self.graph[vertex]:\n",
    "            if not visited[neighbor]:\n",
    "                if self.dfs(neighbor, visited, stack):\n",
    "                    return True\n",
    "            elif stack[neighbor]:\n",
    "                return True\n",
    "        \n",
    "        stack[vertex] = False\n",
    "        return False\n",
    "\n",
    "g = Graph(4)\n",
    "g.add_edge(0, 1)\n",
    "g.add_edge(0, 2)\n",
    "g.add_edge(1, 2)\n",
    "g.add_edge(2, 0)\n",
    "g.add_edge(2, 3)\n",
    "g.add_edge(3, 3)\n",
    "\n",
    "if g.has_cycle():\n",
    "    print(\"The graph has a cycle\")\n",
    "else:\n",
    "    print(\"The graph does not have a cycle\")\n"
   ]
  },
  {
   "cell_type": "markdown",
   "id": "5ca7caa8",
   "metadata": {},
   "source": [
    "# Implement n-Queen’s Problem"
   ]
  },
  {
   "cell_type": "code",
   "execution_count": 11,
   "id": "ec85dd40",
   "metadata": {},
   "outputs": [
    {
     "name": "stdout",
     "output_type": "stream",
     "text": [
      ". Q . . \n",
      ". . . Q \n",
      "Q . . . \n",
      ". . Q . \n"
     ]
    }
   ],
   "source": [
    "def is_safe(board, row, col, n):\n",
    "    for i in range(row):\n",
    "        if board[i][col] == 1:\n",
    "            return False\n",
    "    i = row\n",
    "    j = col\n",
    "    while i >= 0 and j >= 0:\n",
    "        if board[i][j] == 1:\n",
    "            return False\n",
    "        i -= 1\n",
    "        j -= 1\n",
    "\n",
    "    i = row\n",
    "    j = col\n",
    "    while i >= 0 and j < n:\n",
    "        if board[i][j] == 1:\n",
    "            return False\n",
    "        i -= 1\n",
    "        j += 1\n",
    "    return True\n",
    "\n",
    "def solve_n_queens(n):\n",
    "    board = [[0] * n for i in range(n)]\n",
    "\n",
    "    def backtrack(row):\n",
    "        if row == n:\n",
    "            return True\n",
    "\n",
    "        for col in range(n):\n",
    "            if is_safe(board, row, col, n):\n",
    "                board[row][col] = 1\n",
    "                if backtrack(row + 1):\n",
    "                    return True\n",
    "                board[row][col] = 0\n",
    "\n",
    "        return False\n",
    "    if backtrack(0):\n",
    "        for row in range(n):\n",
    "            for col in range(n):\n",
    "                if board[row][col] == 1:\n",
    "                    print(\"Q \", end=\"\")\n",
    "                else:\n",
    "                    print(\". \", end=\"\")\n",
    "            print()\n",
    "    else:\n",
    "        print(\"No solution found\")\n",
    "solve_n_queens(4)\n"
   ]
  },
  {
   "cell_type": "code",
   "execution_count": null,
   "id": "3fd01918",
   "metadata": {},
   "outputs": [],
   "source": []
  }
 ],
 "metadata": {
  "kernelspec": {
   "display_name": "Python 3 (ipykernel)",
   "language": "python",
   "name": "python3"
  },
  "language_info": {
   "codemirror_mode": {
    "name": "ipython",
    "version": 3
   },
   "file_extension": ".py",
   "mimetype": "text/x-python",
   "name": "python",
   "nbconvert_exporter": "python",
   "pygments_lexer": "ipython3",
   "version": "3.9.13"
  }
 },
 "nbformat": 4,
 "nbformat_minor": 5
}
