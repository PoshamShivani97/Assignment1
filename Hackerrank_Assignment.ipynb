{
 "cells": [
  {
   "cell_type": "markdown",
   "id": "49eceb57",
   "metadata": {},
   "source": [
    "# https://www.hackerrank.com/challenges/finding-the-percentage/problem"
   ]
  },
  {
   "cell_type": "code",
   "execution_count": 1,
   "id": "14575203",
   "metadata": {},
   "outputs": [
    {
     "name": "stdout",
     "output_type": "stream",
     "text": [
      "2\n",
      "Harsha 25 26.5 28\n",
      "Anurag 26 28 30\n",
      "Harsha\n",
      "26.50\n"
     ]
    }
   ],
   "source": [
    "def specified_average(student_marks,query_name):\n",
    "    return format((sum(student_marks[query_name])/3), \".2f\")\n",
    "if __name__ == '__main__':\n",
    "    n = int(input())\n",
    "    student_marks = {}\n",
    "    for _ in range(n):\n",
    "        name, *line = input().split()\n",
    "        scores = list(map(float, line))\n",
    "        student_marks[name] = scores\n",
    "    query_name = input()\n",
    "    output=specified_average(student_marks,query_name)\n",
    "    print(output)\n"
   ]
  },
  {
   "cell_type": "markdown",
   "id": "9704eb44",
   "metadata": {},
   "source": [
    "# https://www.hackerrank.com/challenges/python-string-split-and-join/problem"
   ]
  },
  {
   "cell_type": "code",
   "execution_count": null,
   "id": "56970303",
   "metadata": {},
   "outputs": [],
   "source": [
    "def split_and_join(line):\n",
    "    line=line.split(\" \")\n",
    "    line=\"-\".join(line)\n",
    "    return line\n",
    "\n",
    "if __name__ == '__main__':\n",
    "    line = input()\n",
    "    result = split_and_join(line)\n",
    "    print(result)"
   ]
  },
  {
   "cell_type": "markdown",
   "id": "50f70f17",
   "metadata": {},
   "source": [
    "# https://www.hackerrank.com/challenges/py-set-intersection-operation/problem"
   ]
  },
  {
   "cell_type": "code",
   "execution_count": 4,
   "id": "143ecf19",
   "metadata": {},
   "outputs": [
    {
     "name": "stdout",
     "output_type": "stream",
     "text": [
      "9\n",
      "1 2 3 4 5 6 7 8 9\n",
      "9\n",
      "10 1 2 3 11 21 55 6 8\n",
      "Intersection of Given Sets 5\n"
     ]
    }
   ],
   "source": [
    "n=int(input()) \n",
    "l=set(map(int,input().split()))\n",
    "k=int(input()) \n",
    "t=set(map(int,input().split())) \n",
    "print(\"Intersection of Given Sets\",len(l & t))"
   ]
  },
  {
   "cell_type": "markdown",
   "id": "eb448cf4",
   "metadata": {},
   "source": [
    "# https://www.hackerrank.com/challenges/find-second-maximum-number-in-a-list/problem"
   ]
  },
  {
   "cell_type": "code",
   "execution_count": null,
   "id": "642e09b8",
   "metadata": {},
   "outputs": [],
   "source": [
    "if __name__ == '__main__':\n",
    "    n = int(input())\n",
    "    arr = map(int, input().split())\n",
    "    list1=list(arr)\n",
    "    list1.sort()\n",
    "    new_list=set(list1)\n",
    "    new_list.remove(max(list1))\n",
    "    print(max(new_list))"
   ]
  },
  {
   "cell_type": "markdown",
   "id": "142eceb6",
   "metadata": {},
   "source": [
    "# https://www.hackerrank.com/challenges/swap-case/problem"
   ]
  },
  {
   "cell_type": "code",
   "execution_count": 5,
   "id": "7198fc61",
   "metadata": {},
   "outputs": [
    {
     "name": "stdout",
     "output_type": "stream",
     "text": [
      "HackerRank.com presents \"Pythonist 2\".\n",
      "hACKERrANK.COM PRESENTS \"pYTHONIST 2\".\n"
     ]
    }
   ],
   "source": [
    "def swap_case(s):\n",
    "    new_str=\"\"\n",
    "    for each in s:\n",
    "        if each.islower():\n",
    "            new_str+=each.upper()\n",
    "        elif each.isupper():\n",
    "            new_str+=each.lower()\n",
    "        else:\n",
    "            new_str+=each\n",
    "    return new_str\n",
    "        \n",
    "\n",
    "if __name__ == '__main__':\n",
    "    s = input()\n",
    "    result = swap_case(s)\n",
    "    print(result)"
   ]
  },
  {
   "cell_type": "markdown",
   "id": "d534da5f",
   "metadata": {},
   "source": [
    "# https://www.hackerrank.com/challenges/python-arithmetic-operators/problem"
   ]
  },
  {
   "cell_type": "code",
   "execution_count": 7,
   "id": "d7048fc7",
   "metadata": {},
   "outputs": [
    {
     "name": "stdout",
     "output_type": "stream",
     "text": [
      "5\n",
      "3\n",
      "Sum is :  8\n",
      "Difference is :  2\n",
      "Multiplication is :  15\n"
     ]
    }
   ],
   "source": [
    "a = int(input())\n",
    "b = int(input())\n",
    "arth_sum=a+b\n",
    "arth_sub=a-b\n",
    "arth_mul=a*b \n",
    "print(\"Sum is : \", arth_sum)\n",
    "print(\"Difference is : \", arth_sub)\n",
    "print(\"Multiplication is : \", arth_mul)\n"
   ]
  },
  {
   "cell_type": "markdown",
   "id": "185f3ec4",
   "metadata": {},
   "source": [
    "# https://www.hackerrank.com/challenges/python-division/problem"
   ]
  },
  {
   "cell_type": "code",
   "execution_count": 8,
   "id": "2f7cf271",
   "metadata": {},
   "outputs": [
    {
     "name": "stdout",
     "output_type": "stream",
     "text": [
      "5\n",
      "2\n",
      "Division using floor operator:  2\n",
      "Division of two numbers :  2.5\n"
     ]
    }
   ],
   "source": [
    "a = int(input())\n",
    "b = int(input())\n",
    "arth_fdiv=a//b\n",
    "arth_div=a/b\n",
    "print(\"Division using floor operator: \",arth_fdiv)\n",
    "print(\"Division of two numbers : \", arth_div)"
   ]
  },
  {
   "cell_type": "markdown",
   "id": "05ac80b4",
   "metadata": {},
   "source": [
    "# https://www.hackerrank.com/challenges/py-if-else/problem"
   ]
  },
  {
   "cell_type": "code",
   "execution_count": 10,
   "id": "bd3d083a",
   "metadata": {},
   "outputs": [
    {
     "name": "stdout",
     "output_type": "stream",
     "text": [
      "18\n",
      "Weird\n"
     ]
    }
   ],
   "source": [
    "n = int(input().strip())\n",
    "if n%2==0:\n",
    "    if n>5 and n<=20:\n",
    "        print(\"Weird\")\n",
    "    else:\n",
    "        print(\"Not Weird\")\n",
    "else:\n",
    "    print(\"Weird\")"
   ]
  },
  {
   "cell_type": "markdown",
   "id": "4a7bd29a",
   "metadata": {},
   "source": [
    "# https://www.hackerrank.com/challenges/nested-list/problem"
   ]
  },
  {
   "cell_type": "code",
   "execution_count": 11,
   "id": "62c7abea",
   "metadata": {},
   "outputs": [
    {
     "name": "stdout",
     "output_type": "stream",
     "text": [
      "5\n",
      "cherry\n",
      "34.5\n",
      "Harry\n",
      "32\n",
      "jithu\n",
      "36\n",
      "Minnu\n",
      "37\n",
      "Berry\n",
      "34.5\n",
      "Berry\n",
      "cherry\n"
     ]
    }
   ],
   "source": [
    "nest_list = []\n",
    "score_list = []\n",
    "\n",
    "for i in range(int(input())):\n",
    "        name = input()\n",
    "        score = float(input())\n",
    "        nest_list.append([name,score])\n",
    "        score_list.append(score)\n",
    "\n",
    "s = [*set(score_list)]\n",
    "s.sort()\n",
    "def Sort(nest_list):\n",
    "  nest_list.sort(key = lambda x: (x[1], x[0]))\n",
    "  return nest_list\n",
    "\n",
    "for x in Sort(nest_list):\n",
    "  if x[1] == s[1]:\n",
    "    print(x[0])"
   ]
  },
  {
   "cell_type": "markdown",
   "id": "39574cf3",
   "metadata": {},
   "source": [
    "# https://www.hackerrank.com/challenges/python-loops/problem"
   ]
  },
  {
   "cell_type": "code",
   "execution_count": 12,
   "id": "16b18f52",
   "metadata": {},
   "outputs": [
    {
     "name": "stdout",
     "output_type": "stream",
     "text": [
      "3\n",
      "0\n",
      "1\n",
      "4\n"
     ]
    }
   ],
   "source": [
    "n=int(input())\n",
    "for each in range(n):\n",
    "    print(each ** 2)"
   ]
  },
  {
   "cell_type": "markdown",
   "id": "eca6efc4",
   "metadata": {},
   "source": [
    "# https://www.hackerrank.com/challenges/write-a-function/problem"
   ]
  },
  {
   "cell_type": "code",
   "execution_count": 13,
   "id": "a2d50312",
   "metadata": {},
   "outputs": [
    {
     "name": "stdout",
     "output_type": "stream",
     "text": [
      "1990\n",
      "False\n"
     ]
    }
   ],
   "source": [
    "def is_leap(year):\n",
    "    leap = False\n",
    "    if(year%4==0):\n",
    "        leap=True\n",
    "    if (year%100 == 0):\n",
    "        leap=False\n",
    "    if(year%400==0):\n",
    "        leap=True\n",
    "    return leap\n",
    "\n",
    "year = int(input())\n",
    "print(is_leap(year))"
   ]
  },
  {
   "cell_type": "markdown",
   "id": "d9fe2738",
   "metadata": {},
   "source": [
    "# https://www.hackerrank.com/challenges/find-a-string/problem"
   ]
  },
  {
   "cell_type": "code",
   "execution_count": 15,
   "id": "7032074d",
   "metadata": {},
   "outputs": [
    {
     "name": "stdout",
     "output_type": "stream",
     "text": [
      "ABCDCDC\n",
      "CDC\n",
      "Total number of Occurences :  2\n"
     ]
    }
   ],
   "source": [
    "def count_substring(string, sub_string):\n",
    "    count = 0\n",
    "    for i in range(len(string)):\n",
    "        if string[i] == sub_string[0]:\n",
    "            if string[i:i + len(sub_string)] == sub_string:\n",
    "                count += 1\n",
    "    return count\n",
    "if __name__ == '__main__':\n",
    "    string = input().strip()\n",
    "    sub_string = input().strip()\n",
    "    \n",
    "    count = count_substring(string, sub_string)\n",
    "    print(\"Total number of Occurences : \",count)"
   ]
  },
  {
   "cell_type": "markdown",
   "id": "0e8a2c13",
   "metadata": {},
   "source": [
    "# https://www.hackerrank.com/challenges/find-a-string/problem"
   ]
  },
  {
   "cell_type": "code",
   "execution_count": 16,
   "id": "0f809bbd",
   "metadata": {},
   "outputs": [
    {
     "name": "stdout",
     "output_type": "stream",
     "text": [
      "12\n",
      "insert 0 5\n",
      "insert 1 10\n",
      "insert 0 6\n",
      "print\n",
      "[6, 5, 10]\n",
      "remove 6\n",
      "append 9\n",
      "append 1\n",
      "sort\n",
      "print\n",
      "[1, 5, 9, 10]\n",
      "pop\n",
      "reverse\n",
      "print\n",
      "[9, 5, 1]\n"
     ]
    }
   ],
   "source": [
    "N = int(input())\n",
    "l=[]\n",
    "for _ in range(N):\n",
    "    inp=list(input().split())\n",
    "    if \"insert\" in inp:\n",
    "        l.insert(int(inp[1]),int(inp[2]))\n",
    "    if \"print\" in inp:\n",
    "        print(l)\n",
    "    if \"remove\" in inp:\n",
    "        l.remove(int(inp[1]))\n",
    "    if \"append\" in inp:\n",
    "        l.append(int(inp[1]))\n",
    "    if \"sort\" in inp:\n",
    "        l.sort()\n",
    "    if \"pop\" in inp:\n",
    "        l.pop()\n",
    "    if \"reverse\" in inp:\n",
    "        l.reverse()   \n"
   ]
  }
 ],
 "metadata": {
  "kernelspec": {
   "display_name": "Python 3 (ipykernel)",
   "language": "python",
   "name": "python3"
  },
  "language_info": {
   "codemirror_mode": {
    "name": "ipython",
    "version": 3
   },
   "file_extension": ".py",
   "mimetype": "text/x-python",
   "name": "python",
   "nbconvert_exporter": "python",
   "pygments_lexer": "ipython3",
   "version": "3.9.13"
  }
 },
 "nbformat": 4,
 "nbformat_minor": 5
}
