{
 "cells": [
  {
   "cell_type": "code",
   "execution_count": 1,
   "id": "281fe5a5",
   "metadata": {},
   "outputs": [
    {
     "name": "stdout",
     "output_type": "stream",
     "text": [
      "Enter space-separated words: 8 2 3 0 7\n",
      "20\n"
     ]
    }
   ],
   "source": [
    "#Sum of elements of tuple using functions\n",
    "def Sum_tuple(inp_tuple):\n",
    "    S=0\n",
    "    for i in inp_tuple:\n",
    "        S=S+int(i)\n",
    "    return S\n",
    "    \n",
    "inp_tuple = tuple(input('Enter space-separated words: ').split())\n",
    "print(Sum_tuple(inp_tuple))    "
   ]
  },
  {
   "cell_type": "code",
   "execution_count": null,
   "id": "927148e2",
   "metadata": {},
   "outputs": [],
   "source": []
  }
 ],
 "metadata": {
  "kernelspec": {
   "display_name": "Python 3 (ipykernel)",
   "language": "python",
   "name": "python3"
  },
  "language_info": {
   "codemirror_mode": {
    "name": "ipython",
    "version": 3
   },
   "file_extension": ".py",
   "mimetype": "text/x-python",
   "name": "python",
   "nbconvert_exporter": "python",
   "pygments_lexer": "ipython3",
   "version": "3.9.13"
  }
 },
 "nbformat": 4,
 "nbformat_minor": 5
}
