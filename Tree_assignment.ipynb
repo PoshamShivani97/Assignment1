{
 "cells": [
  {
   "cell_type": "markdown",
   "id": "8d127f38",
   "metadata": {},
   "source": [
    "# 1.Implement a Binary tree"
   ]
  },
  {
   "cell_type": "code",
   "execution_count": 1,
   "id": "5709e5a0",
   "metadata": {},
   "outputs": [
    {
     "name": "stdout",
     "output_type": "stream",
     "text": [
      "True\n",
      "False\n"
     ]
    }
   ],
   "source": [
    "class Node:\n",
    "    def __init__(self, data):\n",
    "        self.left = None\n",
    "        self.right = None\n",
    "        self.data = data\n",
    "\n",
    "class BinaryTree:\n",
    "    def __init__(self, root=None):\n",
    "        self.root = root\n",
    "\n",
    "    def add_node(self, data):\n",
    "        # For adding a node to a tree\n",
    "        new_node = Node(data)\n",
    "        if self.root is None:\n",
    "            self.root = new_node\n",
    "            return\n",
    "        current_node = self.root\n",
    "        while True:\n",
    "            if data < current_node.data:\n",
    "                if current_node.left is None:\n",
    "                    current_node.left = new_node\n",
    "                    break\n",
    "                current_node = current_node.left\n",
    "            else:\n",
    "                if current_node.right is None:\n",
    "                    current_node.right = new_node\n",
    "                    break\n",
    "                current_node = current_node.right\n",
    "\n",
    "    def search_node(self, data):\n",
    "        # for searching node in a tree\n",
    "        if self.root is None:\n",
    "            return False\n",
    "        current_node = self.root\n",
    "        while current_node:\n",
    "            if data == current_node.data:\n",
    "                return True\n",
    "            elif data < current_node.data:\n",
    "                current_node = current_node.left\n",
    "            else:\n",
    "                current_node = current_node.right\n",
    "        return False\n",
    "\n",
    "my_tree = BinaryTree()\n",
    "my_tree.add_node(5)\n",
    "my_tree.add_node(3)\n",
    "my_tree.add_node(7)\n",
    "my_tree.add_node(1)\n",
    "my_tree.add_node(4)\n",
    "print(my_tree.search_node(4))\n",
    "print(my_tree.search_node(6))\n"
   ]
  },
  {
   "cell_type": "markdown",
   "id": "c06cf6b7",
   "metadata": {},
   "source": [
    "# 2.Find height of a given tree"
   ]
  },
  {
   "cell_type": "code",
   "execution_count": 2,
   "id": "aba1b470",
   "metadata": {},
   "outputs": [
    {
     "name": "stdout",
     "output_type": "stream",
     "text": [
      "Height of tree is 3\n"
     ]
    }
   ],
   "source": [
    "class Node:\n",
    "    def __init__(self, data):\n",
    "        self.left = None\n",
    "        self.right = None\n",
    "        self.data = data\n",
    "\n",
    "def find_height(node):\n",
    "    if node is None:\n",
    "        return 0\n",
    "    else:\n",
    "        left_height = find_height(node.left)\n",
    "        right_height = find_height(node.right)\n",
    "\n",
    "        if left_height > right_height:\n",
    "            return left_height + 1\n",
    "        else:\n",
    "            return right_height + 1\n",
    "\n",
    "# Example usage:\n",
    "#     1\n",
    "#    / \\\n",
    "#   2   3\n",
    "#  / \\\n",
    "# 4   5\n",
    "root = Node(1)\n",
    "root.left = Node(2)\n",
    "root.right = Node(3)\n",
    "root.left.left = Node(4)\n",
    "root.left.right = Node(5)\n",
    "\n",
    "print(\"Height of tree is\", find_height(root)) # Output: Height of tree is 3\n"
   ]
  },
  {
   "cell_type": "markdown",
   "id": "a629701a",
   "metadata": {},
   "source": [
    "# 3.Perform Pre-order, Post-order, In-order traversal"
   ]
  },
  {
   "cell_type": "code",
   "execution_count": 3,
   "id": "3dfa2351",
   "metadata": {},
   "outputs": [
    {
     "name": "stdout",
     "output_type": "stream",
     "text": [
      "Pre-order traversal: 1 2 4 5 3 \n",
      "Post-order traversal: 4 5 2 3 1 \n",
      "In-order traversal: 4 2 5 1 3 "
     ]
    }
   ],
   "source": [
    "class Node:\n",
    "    def __init__(self, data):\n",
    "        self.left = None\n",
    "        self.right = None\n",
    "        self.data = data\n",
    "\n",
    "def pre_order_traversal(node):\n",
    "    if node is not None:\n",
    "        print(node.data, end=\" \")\n",
    "        pre_order_traversal(node.left)\n",
    "        pre_order_traversal(node.right)\n",
    "\n",
    "def post_order_traversal(node):\n",
    "    if node is not None:\n",
    "        post_order_traversal(node.left)\n",
    "        post_order_traversal(node.right)\n",
    "        print(node.data, end=\" \")\n",
    "\n",
    "def in_order_traversal(node):\n",
    "    if node is not None:\n",
    "        in_order_traversal(node.left)\n",
    "        print(node.data, end=\" \")\n",
    "        in_order_traversal(node.right)\n",
    "\n",
    "# Example usage:\n",
    "#     1\n",
    "#    / \\\n",
    "#   2   3\n",
    "#  / \\\n",
    "# 4   5\n",
    "root = Node(1)\n",
    "root.left = Node(2)\n",
    "root.right = Node(3)\n",
    "root.left.left = Node(4)\n",
    "root.left.right = Node(5)\n",
    "\n",
    "print(\"Pre-order traversal:\", end=\" \")\n",
    "pre_order_traversal(root) # Output: Pre-order traversal: 1 2 4 5 3\n",
    "\n",
    "print(\"\\nPost-order traversal:\", end=\" \")\n",
    "post_order_traversal(root) # Output: Post-order traversal: 4 5 2 3 1\n",
    "\n",
    "print(\"\\nIn-order traversal:\", end=\" \")\n",
    "in_order_traversal(root) # Output: In-order traversal: 4 2 5 1 3\n"
   ]
  },
  {
   "cell_type": "markdown",
   "id": "c85ab367",
   "metadata": {},
   "source": [
    "# 4.Function to print all the leaves in a given binary tree"
   ]
  },
  {
   "cell_type": "code",
   "execution_count": 4,
   "id": "1dc0ed27",
   "metadata": {},
   "outputs": [
    {
     "name": "stdout",
     "output_type": "stream",
     "text": [
      "Leaves of tree: 4 5 3 "
     ]
    }
   ],
   "source": [
    "class Node:\n",
    "    def __init__(self, data):\n",
    "        self.left = None\n",
    "        self.right = None\n",
    "        self.data = data\n",
    "\n",
    "def print_leaves(node):\n",
    "    if node is not None:\n",
    "        if node.left is None and node.right is None:\n",
    "            print(node.data, end=\" \")\n",
    "        else:\n",
    "            print_leaves(node.left)\n",
    "            print_leaves(node.right)\n",
    "\n",
    "# Example usage:\n",
    "#     1\n",
    "#    / \\\n",
    "#   2   3\n",
    "#  / \\\n",
    "# 4   5\n",
    "root = Node(1)\n",
    "root.left = Node(2)\n",
    "root.right = Node(3)\n",
    "root.left.left = Node(4)\n",
    "root.left.right = Node(5)\n",
    "\n",
    "print(\"Leaves of tree:\", end=\" \")\n",
    "print_leaves(root)\n"
   ]
  },
  {
   "cell_type": "markdown",
   "id": "414a28a5",
   "metadata": {},
   "source": [
    "# 5.Implement BFS (Breath First Search) and DFS (Depth First Search)"
   ]
  },
  {
   "cell_type": "code",
   "execution_count": 5,
   "id": "df51b0b1",
   "metadata": {},
   "outputs": [
    {
     "name": "stdout",
     "output_type": "stream",
     "text": [
      "BFS traversal: 1 2 3 4 5 \n",
      "DFS pre-order traversal: 1 2 4 5 3 \n",
      "DFS in-order traversal: 4 2 5 1 3 \n",
      "DFS post-order traversal: 4 5 2 3 1 "
     ]
    }
   ],
   "source": [
    "class Node:\n",
    "    def __init__(self, data):\n",
    "        self.left = None\n",
    "        self.right = None\n",
    "        self.data = data\n",
    "\n",
    "def bfs_traversal(root):\n",
    "    if root is None:\n",
    "        return\n",
    "\n",
    "    queue = [root]\n",
    "    while queue:\n",
    "        node = queue.pop(0)\n",
    "        print(node.data, end=\" \")\n",
    "        if node.left is not None:\n",
    "            queue.append(node.left)\n",
    "        if node.right is not None:\n",
    "            queue.append(node.right)\n",
    "\n",
    "def dfs_pre_order_traversal(node):\n",
    "    if node is not None:\n",
    "        print(node.data, end=\" \")\n",
    "        dfs_pre_order_traversal(node.left)\n",
    "        dfs_pre_order_traversal(node.right)\n",
    "\n",
    "def dfs_in_order_traversal(node):\n",
    "    if node is not None:\n",
    "        dfs_in_order_traversal(node.left)\n",
    "        print(node.data, end=\" \")\n",
    "        dfs_in_order_traversal(node.right)\n",
    "\n",
    "def dfs_post_order_traversal(node):\n",
    "    if node is not None:\n",
    "        dfs_post_order_traversal(node.left)\n",
    "        dfs_post_order_traversal(node.right)\n",
    "        print(node.data, end=\" \")\n",
    "\n",
    "# Example usage:\n",
    "#     1\n",
    "#    / \\\n",
    "#   2   3\n",
    "#  / \\\n",
    "# 4   5\n",
    "root = Node(1)\n",
    "root.left = Node(2)\n",
    "root.right = Node(3)\n",
    "root.left.left = Node(4)\n",
    "root.left.right = Node(5)\n",
    "\n",
    "print(\"BFS traversal:\", end=\" \")\n",
    "bfs_traversal(root)\n",
    "\n",
    "print(\"\\nDFS pre-order traversal:\", end=\" \")\n",
    "dfs_pre_order_traversal(root)\n",
    "\n",
    "print(\"\\nDFS in-order traversal:\", end=\" \")\n",
    "dfs_in_order_traversal(root)\n",
    "\n",
    "print(\"\\nDFS post-order traversal:\", end=\" \")\n",
    "dfs_post_order_traversal(root)"
   ]
  },
  {
   "cell_type": "markdown",
   "id": "e4d67e7c",
   "metadata": {},
   "source": [
    "# 6.Find sum of all left leaves in a given Binary Tree"
   ]
  },
  {
   "cell_type": "code",
   "execution_count": 6,
   "id": "b106bc85",
   "metadata": {},
   "outputs": [
    {
     "name": "stdout",
     "output_type": "stream",
     "text": [
      "24\n"
     ]
    }
   ],
   "source": [
    "class Node:\n",
    "    def __init__(self, data):\n",
    "        self.left = None\n",
    "        self.right = None\n",
    "        self.data = data\n",
    "\n",
    "def sum_of_left_leaves(root):\n",
    "    if root is None:\n",
    "        return 0\n",
    "    if root.left is not None and root.left.left is None and root.left.right is None:\n",
    "        return root.left.data + sum_of_left_leaves(root.right)\n",
    "    \n",
    "    return sum_of_left_leaves(root.left) + sum_of_left_leaves(root.right)\n",
    "\n",
    "# Example usage:\n",
    "#       3\n",
    "#      / \\\n",
    "#     9  20\n",
    "#        / \\\n",
    "#       15  7\n",
    "root = Node(3)\n",
    "root.left = Node(9)\n",
    "root.right = Node(20)\n",
    "root.right.left = Node(15)\n",
    "root.right.right = Node(7)\n",
    "\n",
    "print(sum_of_left_leaves(root))\n"
   ]
  },
  {
   "cell_type": "markdown",
   "id": "40778aea",
   "metadata": {},
   "source": [
    "# 7.Find sum of all nodes of the given perfect binary tree"
   ]
  },
  {
   "cell_type": "code",
   "execution_count": 10,
   "id": "13e96974",
   "metadata": {},
   "outputs": [
    {
     "name": "stdout",
     "output_type": "stream",
     "text": [
      "37\n"
     ]
    }
   ],
   "source": [
    "class Node:\n",
    "    def __init__(self, data):\n",
    "        self.left = None\n",
    "        self.right = None\n",
    "        self.data = data\n",
    "\n",
    "def sum_of_nodes(root):\n",
    "    if root is None:\n",
    "        return 0\n",
    "    left_sum = sum_of_nodes(root.left)\n",
    "    right_sum = sum_of_nodes(root.right)\n",
    "    current_sum = root.data + left_sum + right_sum\n",
    "    return current_sum\n",
    "\n",
    "# Example usage:\n",
    "#       5\n",
    "#      / \\\n",
    "#     7   9\n",
    "#    / \\  / \\\n",
    "#   1  3  5  7\n",
    "root = Node(5)\n",
    "root.left = Node(7)\n",
    "root.right = Node(9)\n",
    "root.left.left = Node(1)\n",
    "root.left.right = Node(3)\n",
    "root.right.left = Node(5)\n",
    "root.right.right = Node(7)\n",
    "\n",
    "print(sum_of_nodes(root))\n"
   ]
  },
  {
   "cell_type": "markdown",
   "id": "c1bdf05d",
   "metadata": {},
   "source": [
    "# 8.Count subtress that sum up to a given value x in a binary tree"
   ]
  },
  {
   "cell_type": "code",
   "execution_count": 12,
   "id": "3d59c02b",
   "metadata": {},
   "outputs": [
    {
     "name": "stdout",
     "output_type": "stream",
     "text": [
      "2\n"
     ]
    }
   ],
   "source": [
    "class Node:\n",
    "    def __init__(self, data):\n",
    "        self.left = None\n",
    "        self.right = None\n",
    "        self.data = data\n",
    "\n",
    "def count_subtrees_with_sum_x(root, x):\n",
    "    count = [0]\n",
    "    count_subtrees_with_sum_x_helper(root, x, count)\n",
    "    return count[0]\n",
    "\n",
    "def count_subtrees_with_sum_x_helper(root, x, count):\n",
    "    if root is None:\n",
    "        return 0\n",
    "    left_sum = count_subtrees_with_sum_x_helper(root.left, x, count)\n",
    "    right_sum = count_subtrees_with_sum_x_helper(root.right, x, count)\n",
    "    current_sum = root.data + left_sum + right_sum\n",
    "    if current_sum == x:\n",
    "        count[0] += 1\n",
    "    return current_sum\n",
    "\n",
    "# Example usage:\n",
    "#       5\n",
    "#      / \\\n",
    "#     -10  3\n",
    "#     / \\  / \\\n",
    "#    9   8 -4  7\n",
    "root = Node(5)\n",
    "root.left = Node(-10)\n",
    "root.right = Node(3)\n",
    "root.left.left = Node(9)\n",
    "root.left.right = Node(8)\n",
    "root.right.left = Node(-4)\n",
    "root.right.right = Node(7)\n",
    "\n",
    "x = 7\n",
    "print(count_subtrees_with_sum_x(root, x))\n"
   ]
  },
  {
   "cell_type": "markdown",
   "id": "886fc2b8",
   "metadata": {},
   "source": [
    "# 9.Find maximum level sum in Binary Tree"
   ]
  },
  {
   "cell_type": "code",
   "execution_count": 13,
   "id": "c171d88b",
   "metadata": {},
   "outputs": [
    {
     "name": "stdout",
     "output_type": "stream",
     "text": [
      "3\n"
     ]
    }
   ],
   "source": [
    "class Node:\n",
    "    def __init__(self, val):\n",
    "        self.val = val\n",
    "        self.left = None\n",
    "        self.right = None\n",
    "\n",
    "def maxLevelSum(root):\n",
    "    if not root:\n",
    "        return 0\n",
    "    queue = [root]\n",
    "    max_sum = root.val\n",
    "    level = 1\n",
    "    max_level = 1\n",
    "    while queue:\n",
    "        level_sum = sum(node.val for node in queue)\n",
    "        if level_sum > max_sum:\n",
    "            max_sum = level_sum\n",
    "            max_level = level\n",
    "        queue = [child for node in queue for child in (node.left, node.right) if child]\n",
    "        level += 1\n",
    "    return max_level\n",
    "\n",
    "# Example usage:\n",
    "#       1\n",
    "#      / \\\n",
    "#     2   3\n",
    "#    / \\   \\\n",
    "#   4   5   6\n",
    "#          /\n",
    "#         7\n",
    "root = Node(1)\n",
    "root.left = Node(2)\n",
    "root.right = Node(3)\n",
    "root.left.left = Node(4)\n",
    "root.left.right = Node(5)\n",
    "root.right.right = Node(6)\n",
    "root.right.right.left = Node(7)\n",
    "\n",
    "print(maxLevelSum(root))"
   ]
  },
  {
   "cell_type": "markdown",
   "id": "94c0884e",
   "metadata": {},
   "source": [
    "# 10.Print the nodes at odd levels of a tree"
   ]
  },
  {
   "cell_type": "code",
   "execution_count": 15,
   "id": "f3742aeb",
   "metadata": {},
   "outputs": [
    {
     "name": "stdout",
     "output_type": "stream",
     "text": [
      "1\n",
      "4\n",
      "5\n",
      "6\n"
     ]
    }
   ],
   "source": [
    "class Node:\n",
    "    def __init__(self, val):\n",
    "        self.val = val\n",
    "        self.left = None\n",
    "        self.right = None\n",
    "\n",
    "def printOddNodes(root, is_odd=True):\n",
    "    if not root:\n",
    "        return\n",
    "    if is_odd:\n",
    "        print(root.val)\n",
    "    printOddNodes(root.left, not is_odd)\n",
    "    printOddNodes(root.right, not is_odd)\n",
    "\n",
    "# Example usage:\n",
    "#       1\n",
    "#      / \\\n",
    "#     2   3\n",
    "#    / \\   \\\n",
    "#   4   5   6\n",
    "#          /\n",
    "#         7\n",
    "root = Node(1)\n",
    "root.left = Node(2)\n",
    "root.right = Node(3)\n",
    "root.left.left = Node(4)\n",
    "root.left.right = Node(5)\n",
    "root.right.right = Node(6)\n",
    "root.right.right.left = Node(7)\n",
    "\n",
    "printOddNodes(root)"
   ]
  }
 ],
 "metadata": {
  "kernelspec": {
   "display_name": "Python 3 (ipykernel)",
   "language": "python",
   "name": "python3"
  },
  "language_info": {
   "codemirror_mode": {
    "name": "ipython",
    "version": 3
   },
   "file_extension": ".py",
   "mimetype": "text/x-python",
   "name": "python",
   "nbconvert_exporter": "python",
   "pygments_lexer": "ipython3",
   "version": "3.9.13"
  }
 },
 "nbformat": 4,
 "nbformat_minor": 5
}
