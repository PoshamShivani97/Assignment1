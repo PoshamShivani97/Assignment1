{
 "cells": [
  {
   "cell_type": "code",
   "execution_count": 3,
   "id": "08f38e50",
   "metadata": {},
   "outputs": [
    {
     "name": "stdout",
     "output_type": "stream",
     "text": [
      "-------------------------------- Enter the values of Dog Class ------------------------------------\n",
      "Name of dog :Tinku\n",
      "Age of dog in years : 2\n",
      "color of dog :White and black\n",
      "Name and age of dog are :  ('Tinku', 2)\n",
      "color of dog is :  White and black\n",
      "================================================================================================================\n",
      "\n",
      "-------------------------------- Enter the values of JackRussellTerrier Class ------------------------------------\n",
      "enter name of dog : Jimmy\n",
      "children of dog : 3\n",
      "Jimmy is now barking. \n",
      "Jimmy has 3 children. \n",
      "================================================================================================================\n",
      "\n",
      "-------------------------------- Enter the values of Bulldog Class ------------------------------------\n",
      "enter name of dog :Baahu\n",
      "Baahu is now sitting.\n",
      "Baahu rolled over!\n",
      "================================================================================================================\n"
     ]
    }
   ],
   "source": [
    "class Dog:                                    #defining the main class dog\n",
    "    def __init__(self,name=None,age=0,coat_color=None):\n",
    "        self.name=name\n",
    "        self.age=age\n",
    "        self.coat_color=coat_color\n",
    "    def description(self):\n",
    "        return self.name,self.age\n",
    "    def get_info(self):\n",
    "        return self.coat_color\n",
    "class JackRussellTerrier(Dog):             #defining class JackRussellTerrier\n",
    "    def __init__(self,name,child=0):\n",
    "        super().__init__(name)\n",
    "        self.child=child\n",
    "    def bark(self,name=None):\n",
    "        return self.name + \" is now barking. \"\n",
    "    def no_of_child(self,name=None,child=0):\n",
    "        return self.name + \" has \" + str(self.child) + \" children. \"\n",
    "class Bulldog(Dog):                       # defining class Bulldog\n",
    "    def __init__(self,name):\n",
    "        super().__init__(name)\n",
    "    def sit(self):\n",
    "        return self.name + \" is now sitting.\"\n",
    "\n",
    "    def roll_over(self):\n",
    "        return self.name + \" rolled over!\"\n",
    "    \n",
    "\n",
    "print(\"-------------------------------- Enter the values of Dog Class ------------------------------------\")    \n",
    "ob=Dog(str(input(\"Name of dog :\")),int(input(\"Age of dog in years : \")),str(input(\"color of dog :\")))          \n",
    "print(\"Name and age of dog are : \", ob.description())\n",
    "print(\"color of dog is : \", ob.get_info())\n",
    "print(\"================================================================================================================\")\n",
    "print()\n",
    "\n",
    "print(\"-------------------------------- Enter the values of JackRussellTerrier Class ------------------------------------\")    \n",
    "obj1=JackRussellTerrier(str(input(\"enter name of dog : \")),int(input(\"children of dog : \")))\n",
    "print(obj1.bark())\n",
    "print(obj1.no_of_child())\n",
    "print(\"================================================================================================================\")\n",
    "print()\n",
    "\n",
    "print(\"-------------------------------- Enter the values of Bulldog Class ------------------------------------\")    \n",
    "obj=Bulldog(str(input(\"enter name of dog :\")))\n",
    "print(obj.sit())\n",
    "print(obj.roll_over())\n",
    "print(\"================================================================================================================\")\n",
    "\n",
    "\n"
   ]
  }
 ],
 "metadata": {
  "kernelspec": {
   "display_name": "Python 3 (ipykernel)",
   "language": "python",
   "name": "python3"
  },
  "language_info": {
   "codemirror_mode": {
    "name": "ipython",
    "version": 3
   },
   "file_extension": ".py",
   "mimetype": "text/x-python",
   "name": "python",
   "nbconvert_exporter": "python",
   "pygments_lexer": "ipython3",
   "version": "3.9.13"
  }
 },
 "nbformat": 4,
 "nbformat_minor": 5
}
