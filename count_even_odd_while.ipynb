{
 "cells": [
  {
   "cell_type": "code",
   "execution_count": 3,
   "id": "2b488ecf",
   "metadata": {},
   "outputs": [
    {
     "name": "stdout",
     "output_type": "stream",
     "text": [
      "Please enter input separated by space1 2 3 4 5 6 7 8\n",
      "Even Count: 4\n",
      "Odd count: 4\n"
     ]
    }
   ],
   "source": [
    "#count of even and odd numbers in table using while loop\n",
    "inp=tuple(map(int,input(\"Please enter input separated by space: \").split()))\n",
    "even_cnt=0\n",
    "odd_cnt=0\n",
    "i=0\n",
    "while (i<len(inp)):\n",
    "    if (inp[i]%2==0):\n",
    "        even_cnt+=1\n",
    "    else:\n",
    "        odd_cnt+=1\n",
    "    i=i+1\n",
    "print(\"Even Count:\",even_cnt)\n",
    "print(\"Odd count:\",odd_cnt)"
   ]
  },
  {
   "cell_type": "code",
   "execution_count": null,
   "id": "03e60121",
   "metadata": {},
   "outputs": [],
   "source": []
  }
 ],
 "metadata": {
  "kernelspec": {
   "display_name": "Python 3 (ipykernel)",
   "language": "python",
   "name": "python3"
  },
  "language_info": {
   "codemirror_mode": {
    "name": "ipython",
    "version": 3
   },
   "file_extension": ".py",
   "mimetype": "text/x-python",
   "name": "python",
   "nbconvert_exporter": "python",
   "pygments_lexer": "ipython3",
   "version": "3.9.13"
  }
 },
 "nbformat": 4,
 "nbformat_minor": 5
}
