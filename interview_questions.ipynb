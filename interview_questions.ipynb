{
 "cells": [
  {
   "cell_type": "code",
   "execution_count": null,
   "id": "a17eb263",
   "metadata": {},
   "outputs": [],
   "source": [
    "\n",
    "Data Types:\n",
    "\n",
    "1. What is the difference between a list and a tuple in Python?\n",
    "2. What is a dictionary in Python and how is it used?\n",
    "3. What is a set in Python and when would you use it?\n",
    "4. How do you convert a string to a list in Python?\n",
    "5. What is the difference between a shallow copy and a deep copy in Python?\n",
    "\n",
    "Operators:\n",
    "    \n",
    "6. What is the difference between the \"==\" operator and the \"is\" operator in Python?\n",
    "7. How do you concatenate two lists in Python?\n",
    "8. What is the difference between \"and\" and \"or\" operators in Python?\n",
    "9. What is the modulo operator and how is it used in Python?\n",
    "10. What is the order of precedence of operators in Python?\n",
    "\n",
    "Conditional Statements:\n",
    "    \n",
    "11. How do you write an if statement in Python?\n",
    "12. What is the difference between an if statement and a while loop?\n",
    "13. How do you write a nested if statement in Python?\n",
    "14. What is the difference between \"if\" and \"elif\" in Python?\n",
    "15. How do you use the \"not\" operator in Python?\n",
    "\n",
    "Looping Statements:\n",
    "    \n",
    "16. How do you write a for loop in Python?\n",
    "17.What is the difference between a \"while\" loop and a \"for\" loop in Python?\n",
    "18. How do you break out of a loop in Python?\n",
    "19. How do you continue to the next iteration of a loop in Python?\n",
    "20.What is the purpose of the range() function in Python?"
   ]
  }
 ],
 "metadata": {
  "kernelspec": {
   "display_name": "Python 3 (ipykernel)",
   "language": "python",
   "name": "python3"
  },
  "language_info": {
   "codemirror_mode": {
    "name": "ipython",
    "version": 3
   },
   "file_extension": ".py",
   "mimetype": "text/x-python",
   "name": "python",
   "nbconvert_exporter": "python",
   "pygments_lexer": "ipython3",
   "version": "3.9.13"
  }
 },
 "nbformat": 4,
 "nbformat_minor": 5
}
