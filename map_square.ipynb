{
 "cells": [
  {
   "cell_type": "code",
   "execution_count": 1,
   "id": "281fe5a5",
   "metadata": {},
   "outputs": [
    {
     "name": "stdout",
     "output_type": "stream",
     "text": [
      "enter numbers separated by space : 4 5 2 9\n",
      "[16, 25, 4, 81]\n"
     ]
    }
   ],
   "source": [
    "# Write a Python program to square all numbers of a given list of integers. Use Python map\n",
    "\n",
    "inp=[int(i) for i in input(\"enter numbers separated by space : \").split()]\n",
    "def Triple_function(i):\n",
    "    return pow(i,2)\n",
    "op_obj=map(Triple_function, inp)\n",
    "print(list(op_obj))"
   ]
  },
  {
   "cell_type": "code",
   "execution_count": null,
   "id": "927148e2",
   "metadata": {},
   "outputs": [],
   "source": []
  }
 ],
 "metadata": {
  "kernelspec": {
   "display_name": "Python 3 (ipykernel)",
   "language": "python",
   "name": "python3"
  },
  "language_info": {
   "codemirror_mode": {
    "name": "ipython",
    "version": 3
   },
   "file_extension": ".py",
   "mimetype": "text/x-python",
   "name": "python",
   "nbconvert_exporter": "python",
   "pygments_lexer": "ipython3",
   "version": "3.9.13"
  }
 },
 "nbformat": 4,
 "nbformat_minor": 5
}
