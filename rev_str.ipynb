{
 "cells": [
  {
   "cell_type": "code",
   "execution_count": 1,
   "id": "281fe5a5",
   "metadata": {},
   "outputs": [
    {
     "name": "stdout",
     "output_type": "stream",
     "text": [
      "enter String: \"1234abcd\"\n",
      "\"dcba4321\"\n"
     ]
    }
   ],
   "source": [
    "def reverse_fun(inp_string):\n",
    "    rev=\"\"\n",
    "    for i in inp_string:\n",
    "        rev=i+rev\n",
    "    return rev\n",
    "inp_string=str(input(\"enter String: \"))\n",
    "print(reverse_fun(inp_string))"
   ]
  },
  {
   "cell_type": "code",
   "execution_count": null,
   "id": "927148e2",
   "metadata": {},
   "outputs": [],
   "source": []
  }
 ],
 "metadata": {
  "kernelspec": {
   "display_name": "Python 3 (ipykernel)",
   "language": "python",
   "name": "python3"
  },
  "language_info": {
   "codemirror_mode": {
    "name": "ipython",
    "version": 3
   },
   "file_extension": ".py",
   "mimetype": "text/x-python",
   "name": "python",
   "nbconvert_exporter": "python",
   "pygments_lexer": "ipython3",
   "version": "3.9.13"
  }
 },
 "nbformat": 4,
 "nbformat_minor": 5
}
